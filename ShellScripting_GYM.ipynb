{
  "nbformat": 4,
  "nbformat_minor": 0,
  "metadata": {
    "colab": {
      "provenance": [],
      "authorship_tag": "ABX9TyNuC97u8peQMfkr9X8TSExp",
      "include_colab_link": true
    },
    "kernelspec": {
      "name": "python3",
      "display_name": "Python 3"
    },
    "language_info": {
      "name": "python"
    }
  },
  "cells": [
    {
      "cell_type": "markdown",
      "metadata": {
        "id": "view-in-github",
        "colab_type": "text"
      },
      "source": [
        "<a href=\"https://colab.research.google.com/github/Sarvesh-Prajapati/Shell-Scripting/blob/main/ShellScripting_GYM.ipynb\" target=\"_parent\"><img src=\"https://colab.research.google.com/assets/colab-badge.svg\" alt=\"Open In Colab\"/></a>"
      ]
    },
    {
      "cell_type": "markdown",
      "metadata": {
        "id": "d2b364e2"
      },
      "source": [
        "# Bash Scripting"
      ]
    },
    {
      "cell_type": "markdown",
      "source": [
        "**Learn bash scripting from scratch to advanced, including creating a file hierarchy, explaining commands with examples and outputs, handling exceptional cases, and creating/running demo .bat files.**"
      ],
      "metadata": {
        "id": "XB9tEgilQGk8"
      }
    },
    {
      "cell_type": "markdown",
      "metadata": {
        "id": "f10d95f9"
      },
      "source": [
        "## Create a file hierarchy\n"
      ]
    },
    {
      "cell_type": "markdown",
      "source": [
        "We can create file hierarchy with one script directly:\n",
        "\n",
        "```\n",
        "%%bash\n",
        "mkdir bash_tutorial\n",
        "cd bash_tutorial\n",
        "mkdir bash_tutorial/{basic_commands,file_manipulation,file_content,permissions,io_redirection,scripting,advanced}\n",
        "touch scripting/first_script.sh\n",
        "touch advanced/advanced_script.sh\n",
        "touch file_content/file1.txt file_content/file2.txt file_content/file3.txt\n",
        "```\n",
        "\n",
        "But we will create it in multiple steps to understanding the working."
      ],
      "metadata": {
        "id": "3zX5selvk23n"
      }
    },
    {
      "cell_type": "markdown",
      "source": [
        "Create a root folder ```bash_tutorial```:"
      ],
      "metadata": {
        "id": "zRD2DgLqTiaJ"
      }
    },
    {
      "cell_type": "code",
      "metadata": {
        "id": "4a80678d"
      },
      "source": [
        "# %%bash\n",
        "!mkdir bash_tutorial   # for same effect, remove exclamantion in current line & uncomment above line"
      ],
      "execution_count": null,
      "outputs": []
    },
    {
      "cell_type": "markdown",
      "source": [
        "Change directory ```cd``` to root folder ```bash_tutorial``` but not needed here as we will run commands one at a time"
      ],
      "metadata": {
        "id": "39z1c-NMTpSQ"
      }
    },
    {
      "cell_type": "code",
      "source": [
        "# %%bash\n",
        "# cd bash_tutorial  # COMMENTED for it is not part of a script file & 'cd' won't do anything from this cell"
      ],
      "metadata": {
        "id": "1edkBE-ATZ9s"
      },
      "execution_count": null,
      "outputs": []
    },
    {
      "cell_type": "markdown",
      "source": [
        "Create more folders within ```bash_tutorial``` root folder"
      ],
      "metadata": {
        "id": "-nOR8CKsT5cw"
      }
    },
    {
      "cell_type": "code",
      "source": [
        "%%bash\n",
        "\n",
        "# There should be NO space after commas separating file names\n",
        "mkdir -p bash_tutorial/{basic_commands,file_manipulation,file_content,permissions,io_redirection,scripting,advanced}"
      ],
      "metadata": {
        "id": "wmA1VH67TdwK"
      },
      "execution_count": null,
      "outputs": []
    },
    {
      "cell_type": "markdown",
      "source": [
        "Following two command will also create files just like above command (there should be no space after commas separating file names:\n",
        "\n",
        "```\n",
        "!mkdir -p bash_tutorial/{basic_commands,file_manipulation,file_content,permissions,io_redirection,scripting,advanced}\n",
        "\n",
        "!mkdir bash_tutorial/{basic_commands,file_manipulation,file_content,permissions,io_redirection,scripting,advanced}\n",
        "```\n",
        "**NOTE:** The **{}** syntax with commas creates multiple items **at the same level** (evident in above commands). However, **nested** {} or including spaces within the braces without escaping them doesn't work directly with ```mkdir``` for creating a nested structure (folders and files within them).\n",
        "\n",
        "To create that nested directory structure correctly, either use a separate ```mkdir``` command for each directory, or use the **```-p```** option with the full path and properly escaped spaces.\n",
        "\n",
        "So, following command will fail:\n",
        "\n",
        "```\n",
        "!mkdir bash_tutorial/{t1/{x1,x2},t2/tom\\ and\\ jerry}\n",
        "```\n",
        "\n",
        "Following command will run successfully:\n",
        "\n",
        "```\n",
        "!mkdir -p bash_tutorial/{t1/{x1,x2},t2/tom\\ and\\ jerry}\n",
        "```\n",
        "\n",
        "**```-p```** ensures that parent directories are created if they don't exist, and ```tom\\ and\\ jerry``` correctly escapes the space in the directory name."
      ],
      "metadata": {
        "id": "n_8pG8VskH6Q"
      }
    },
    {
      "cell_type": "markdown",
      "source": [
        "Next, create files within folders using ```touch```. Since we have not used ```cd``` to change context to root directory & since we are running commands one at a time here in individual cells, we need to specify full path for the file to create."
      ],
      "metadata": {
        "id": "nm8zjHPinqWF"
      }
    },
    {
      "cell_type": "code",
      "source": [
        "%%bash\n",
        "touch bash_tutorial/scripting/first_script.sh"
      ],
      "metadata": {
        "id": "XFHnPymnTegB"
      },
      "execution_count": null,
      "outputs": []
    },
    {
      "cell_type": "code",
      "source": [
        "%%bash\n",
        "touch bash_tutorial/advanced/advanced_script.sh"
      ],
      "metadata": {
        "id": "CCNgeDvrndkx"
      },
      "execution_count": null,
      "outputs": []
    },
    {
      "cell_type": "code",
      "source": [
        "%%bash\n",
        "touch bash_tutorial/file_content/{file1.txt,file2.txt,file3.txt}"
      ],
      "metadata": {
        "id": "_IBshowMneA2"
      },
      "execution_count": null,
      "outputs": []
    },
    {
      "cell_type": "markdown",
      "source": [
        "Above 3 commands can be run together too in a cell to create all files at one go:\n",
        "```\n",
        "%%bash\n",
        "touch bash_tutorial/scripting/first_script.sh\n",
        "touch bash_tutorial/advanced/advanced_script.sh\n",
        "touch bash_tutorial/file_content/{file1.txt,file2.txt,file3.txt}\n",
        "```\n",
        "\n",
        "```touch``` will create files within **only pre-existing** folders."
      ],
      "metadata": {
        "id": "7opRZxV3pkhR"
      }
    },
    {
      "cell_type": "markdown",
      "metadata": {
        "id": "c6c69c22"
      },
      "source": [
        "## Introduce basic commands\n",
        "\n",
        "Fundamental bash commands with examples and expected outputs.\n"
      ]
    },
    {
      "cell_type": "code",
      "metadata": {
        "colab": {
          "base_uri": "https://localhost:8080/"
        },
        "id": "43ca4e60",
        "outputId": "9f977518-f979-4048-a234-f9d672fa6116"
      },
      "source": [
        "%%bash\n",
        "\n",
        "# ------------------ 1. Introduce and demonstrate 'echo' --------------------------\n",
        "\n",
        "echo \"### The 'echo' command\"\n",
        "echo \"Purpose: The 'echo' command is used to display lines of text or strings that are passed as arguments.\"\n",
        "echo \"Example:\"\n",
        "echo 'echo \"Hello, Bash!\"'\n",
        "echo \"Expected Output:\"\n",
        "echo \"Hello, Bash!\"\n",
        "echo \"\"\n",
        "echo \"Common Options:\"\n",
        "echo \"-e: Enable interpretation of backslash escapes (e.g., \\\\n for newline, \\\\t for tab).\"\n",
        "echo \"Example with -e:\"\n",
        "echo 'echo -e \"Line 1\\\\nLine 2\"'\n",
        "echo \"Expected Output:\"\n",
        "echo \"Line 1\"\n",
        "echo \"Line 2\"\n",
        "echo \"\""
      ],
      "execution_count": null,
      "outputs": [
        {
          "output_type": "stream",
          "name": "stdout",
          "text": [
            "### The 'echo' command\n",
            "Purpose: The 'echo' command is used to display lines of text or strings that are passed as arguments.\n",
            "Example:\n",
            "echo \"Hello, Bash!\"\n",
            "Expected Output:\n",
            "Hello, Bash!\n",
            "\n",
            "Common Options:\n",
            "-e: Enable interpretation of backslash escapes (e.g., \\n for newline, \\t for tab).\n",
            "Example with -e:\n",
            "echo -e \"Line 1\\\\nLine 2\"\n",
            "Expected Output:\n",
            "Line 1\n",
            "Line 2\n",
            "\n"
          ]
        }
      ]
    },
    {
      "cell_type": "code",
      "source": [
        "%%bash\n",
        "\n",
        "# 2. -------------------------- Introduce and demonstrate 'pwd'-------------------\n",
        "\n",
        "echo \"### The 'pwd' command\"\n",
        "echo \"Purpose: The 'pwd' command stands for 'print working directory'. It displays the absolute path of the current directory you are in.\"\n",
        "echo \"Example:\"\n",
        "echo 'pwd'\n",
        "echo \"Expected Output:\"\n",
        "echo \"/path/to/your/current/directory\" # Note: This will be the actual path when executed\n",
        "echo \"\"\n",
        "echo \"Common Options:\"\n",
        "echo \"-L: Prints the logical current working directory (resolves symbolic links).\"\n",
        "echo \"-P: Prints the physical current working directory (does not resolve symbolic links).\"\n"
      ],
      "metadata": {
        "colab": {
          "base_uri": "https://localhost:8080/"
        },
        "id": "x4swskNcp95b",
        "outputId": "b8b489d3-45ef-48c7-df96-8f636adb7211"
      },
      "execution_count": null,
      "outputs": [
        {
          "output_type": "stream",
          "name": "stdout",
          "text": [
            "### The 'pwd' command\n",
            "Purpose: The 'pwd' command stands for 'print working directory'. It displays the absolute path of the current directory you are in.\n",
            "Example:\n",
            "pwd\n",
            "Expected Output:\n",
            "/path/to/your/current/directory\n",
            "\n",
            "Common Options:\n",
            "-L: Prints the logical current working directory (resolves symbolic links).\n",
            "-P: Prints the physical current working directory (does not resolve symbolic links).\n"
          ]
        }
      ]
    },
    {
      "cell_type": "code",
      "source": [
        "%%bash\n",
        "\n",
        "# 3. ---------------------- Introduce and demonstrate 'ls' ----------------------------------\n",
        "\n",
        "echo \"### The 'ls' command\"\n",
        "echo \"Purpose: The 'ls' command is used to list the contents of a directory.\"\n",
        "echo \"Example:\"\n",
        "echo 'ls'\n",
        "echo \"Expected Output:\"\n",
        "echo \"Lists files and directories in the current location (e.g., basic_commands file_manipulation file_content permissions io_redirection scripting advanced)\" # Note: This will list the actual contents\n",
        "echo \"\"\n",
        "echo \"Common Options:\"\n",
        "echo \"-l: Long listing format (shows permissions, owner, size, modification date, etc.).\"\n",
        "echo \"-a: Lists all files, including hidden files (those starting with a dot).\"\n",
        "echo \"-h: Human-readable sizes (e.g., 1K, 234M, 2G).\"\n",
        "echo \"Example with options:\"\n",
        "echo 'ls -lah'\n",
        "echo \"Expected Output:\"\n",
        "echo \"Detailed list of all files and directories, including hidden ones, with human-readable sizes.\""
      ],
      "metadata": {
        "id": "WgC-bExrqAGQ"
      },
      "execution_count": null,
      "outputs": []
    },
    {
      "cell_type": "markdown",
      "metadata": {
        "id": "bb6cbf1d"
      },
      "source": [
        "## Explore file and directory manipulation\n",
        "\n",
        "Commands for creating, deleting, moving, and copying files and directories.\n"
      ]
    },
    {
      "cell_type": "code",
      "metadata": {
        "colab": {
          "base_uri": "https://localhost:8080/"
        },
        "id": "554a6b05",
        "outputId": "34b67423-f1c1-47d6-98d4-50bcf402e6bf"
      },
      "source": [
        "%%bash\n",
        "cd bash_tutorial/file_manipulation\n",
        "\n",
        "echo \"### ------- Creating directories with 'mkdir' ------------------\"\n",
        "echo \"Purpose: The 'mkdir' command is used to create new directories.\"\n",
        "echo \"Example:\"\n",
        "echo \"mkdir my_directory\"\n",
        "mkdir my_directory\n",
        "echo \"Expected Output (check with ls):\"\n",
        "echo \"\"\n",
        "ls\n",
        "echo \"\"\n"
      ],
      "execution_count": null,
      "outputs": [
        {
          "output_type": "stream",
          "name": "stdout",
          "text": [
            "### ------- Creating directories with 'mkdir' ------------------\n",
            "Purpose: The 'mkdir' command is used to create new directories.\n",
            "Example:\n",
            "mkdir my_directory\n",
            "Expected Output (check with ls):\n",
            "\n",
            "fileB.txt\n",
            "moved_directory\n",
            "my_directory\n",
            "source_dir\n",
            "\n"
          ]
        }
      ]
    },
    {
      "cell_type": "code",
      "source": [
        "%%bash\n",
        "cd bash_tutorial/file_manipulation\n",
        "\n",
        "echo \"### ------------ Deleting EMPTY directories with 'rmdir' -------------\"\n",
        "echo \"Purpose: The 'rmdir' command is used to delete empty directories.\"\n",
        "echo \"Example:\"\n",
        "echo \"rmdir my_directory\"\n",
        "rmdir my_directory\n",
        "echo \"Expected Output (check with ls):\"\n",
        "echo \"\"\n",
        "ls\n",
        "echo \"\"\n"
      ],
      "metadata": {
        "colab": {
          "base_uri": "https://localhost:8080/"
        },
        "id": "KRQro2s3E_ta",
        "outputId": "3e51aa1d-0c1a-41ee-ffee-81336efb1881"
      },
      "execution_count": null,
      "outputs": [
        {
          "output_type": "stream",
          "name": "stdout",
          "text": [
            "### ------------ Deleting EMPTY directories with 'rmdir' -------------\n",
            "Purpose: The 'rmdir' command is used to delete empty directories.\n",
            "Example:\n",
            "rmdir my_directory\n",
            "Expected Output (check with ls):\n",
            "\n",
            "fileB.txt\n",
            "moved_directory\n",
            "source_dir\n",
            "\n"
          ]
        }
      ]
    },
    {
      "cell_type": "code",
      "source": [
        "%%bash\n",
        "cd bash_tutorial/file_manipulation\n",
        "\n",
        "echo \"### ------------- Creating files with 'touch' -------------\"\n",
        "echo \"Purpose: The 'touch' command is used to create new, empty files or update the timestamp of existing files.\"\n",
        "echo \"Example:\"\n",
        "echo \"touch fileA.txt fileB.txt\"\n",
        "touch fileA.txt fileB.txt\n",
        "echo \"Expected Output (check with ls):\"\n",
        "echo \"\"\n",
        "ls\n",
        "echo \"\"\n"
      ],
      "metadata": {
        "colab": {
          "base_uri": "https://localhost:8080/"
        },
        "id": "WRVDGlF0F-rd",
        "outputId": "458f960c-5148-4625-a160-87d5c3392bd1"
      },
      "execution_count": null,
      "outputs": [
        {
          "output_type": "stream",
          "name": "stdout",
          "text": [
            "### ------------- Creating files with 'touch' -------------\n",
            "Purpose: The 'touch' command is used to create new, empty files or update the timestamp of existing files.\n",
            "Example:\n",
            "touch fileA.txt fileB.txt\n",
            "Expected Output (check with ls):\n",
            "\n",
            "fileA.txt\n",
            "fileB.txt\n",
            "moved_directory\n",
            "source_dir\n",
            "\n"
          ]
        }
      ]
    },
    {
      "cell_type": "code",
      "source": [
        "%%bash\n",
        "cd bash_tutorial/file_manipulation\n",
        "\n",
        "echo \"### ------------- Deleting files and directories with 'rm' -------------\"\n",
        "echo \"Purpose: The 'rm' command is used to remove files or directories.\"\n",
        "echo \"Example (deleting a file):\"\n",
        "echo \"rm fileA.txt\"\n",
        "rm fileA.txt\n",
        "echo \"Expected Output (check with ls):\"\n",
        "echo \"\"\n",
        "ls\n",
        "echo \"\"\n",
        "echo \"Example (deleting a non-empty directory recursively):\"\n",
        "echo \"mkdir dir_to_delete\"\n",
        "echo \"touch dir_to_delete/fileC.txt\"\n",
        "mkdir dir_to_delete\n",
        "touch dir_to_delete/fileC.txt\n",
        "echo \"\"\n",
        "echo \"ls -R dir_to_delete:\"\n",
        "ls -R dir_to_delete\n",
        "echo \"\"\n",
        "echo \"rm -r dir_to_delete\"\n",
        "rm -r dir_to_delete\n",
        "echo \"\"\n",
        "echo \"Expected Output (check with ls):\"\n",
        "echo \"\"\n",
        "ls\n",
        "echo \"\"\n"
      ],
      "metadata": {
        "colab": {
          "base_uri": "https://localhost:8080/"
        },
        "id": "H8H3ZYGvGByi",
        "outputId": "b568e7af-df4e-4a31-edf3-76ee445f5893"
      },
      "execution_count": null,
      "outputs": [
        {
          "output_type": "stream",
          "name": "stdout",
          "text": [
            "### ------------- Deleting files and directories with 'rm' -------------\n",
            "Purpose: The 'rm' command is used to remove files or directories.\n",
            "Example (deleting a file):\n",
            "rm fileA.txt\n",
            "Expected Output (check with ls):\n",
            "\n",
            "fileB.txt\n",
            "moved_directory\n",
            "source_dir\n",
            "\n",
            "Example (deleting a non-empty directory recursively):\n",
            "mkdir dir_to_delete\n",
            "touch dir_to_delete/fileC.txt\n",
            "\n",
            "ls -R dir_to_delete:\n",
            "dir_to_delete:\n",
            "fileC.txt\n",
            "\n",
            "rm -r dir_to_delete\n",
            "\n",
            "Expected Output (check with ls):\n",
            "\n",
            "fileB.txt\n",
            "moved_directory\n",
            "source_dir\n",
            "\n"
          ]
        }
      ]
    },
    {
      "cell_type": "code",
      "source": [
        "%%bash\n",
        "cd bash_tutorial/file_manipulation\n",
        "\n",
        "echo \"### ------------- Copying files and directories with 'cp' -------------\"\n",
        "echo \"Purpose: The 'cp' command is used to copy files and directories.\"\n",
        "echo \"Example (copying a file):\"\n",
        "echo \"cp fileB.txt fileB_copy.txt\"\n",
        "cp fileB.txt fileB_copy.txt\n",
        "echo \"Expected Output (check with ls):\"\n",
        "echo \"\"\n",
        "ls\n",
        "echo \"\"\n",
        "echo \"Example (copying a directory recursively):\"\n",
        "echo \"mkdir source_dir\"\n",
        "echo \"touch source_dir/fileD.txt\"\n",
        "mkdir source_dir\n",
        "touch source_dir/fileD.txt\n",
        "echo \"ls -R source_dir:\"\n",
        "ls -R source_dir\n",
        "echo \"cp -r source_dir destination_dir\"\n",
        "cp -r source_dir destination_dir\n",
        "echo \"\"\n",
        "echo \"Expected Output (check with ls -R):\"\n",
        "ls -R\n",
        "echo \"\"\n"
      ],
      "metadata": {
        "colab": {
          "base_uri": "https://localhost:8080/"
        },
        "id": "eAG_SUDQGEo5",
        "outputId": "04542388-b8c6-4b29-ec92-3efb07fbd9bd"
      },
      "execution_count": null,
      "outputs": [
        {
          "output_type": "stream",
          "name": "stdout",
          "text": [
            "### ------------- Copying files and directories with 'cp' -------------\n",
            "Purpose: The 'cp' command is used to copy files and directories.\n",
            "Example (copying a file):\n",
            "cp fileB.txt fileB_copy.txt\n",
            "Expected Output (check with ls):\n",
            "\n",
            "fileB_copy.txt\n",
            "fileB.txt\n",
            "moved_directory\n",
            "source_dir\n",
            "\n",
            "Example (copying a directory recursively):\n",
            "mkdir source_dir\n",
            "touch source_dir/fileD.txt\n",
            "ls -R source_dir:\n",
            "source_dir:\n",
            "fileD.txt\n",
            "cp -r source_dir destination_dir\n",
            "\n",
            "Expected Output (check with ls -R):\n",
            ".:\n",
            "destination_dir\n",
            "fileB_copy.txt\n",
            "fileB.txt\n",
            "moved_directory\n",
            "source_dir\n",
            "\n",
            "./destination_dir:\n",
            "fileD.txt\n",
            "\n",
            "./moved_directory:\n",
            "fileB_renamed.txt\n",
            "fileD.txt\n",
            "\n",
            "./source_dir:\n",
            "fileD.txt\n",
            "\n"
          ]
        },
        {
          "output_type": "stream",
          "name": "stderr",
          "text": [
            "mkdir: cannot create directory ‘source_dir’: File exists\n"
          ]
        }
      ]
    },
    {
      "cell_type": "code",
      "source": [
        "%%bash\n",
        "cd bash_tutorial/file_manipulation\n",
        "\n",
        "echo \"### ------------- Moving and renaming files and directories with 'mv' -------------\"\n",
        "echo \"Purpose: The 'mv' command is used to move or rename files and directories.\"\n",
        "echo \"Example (renaming a file):\"\n",
        "echo \"mv fileB_copy.txt fileB_renamed.txt\"\n",
        "mv fileB_copy.txt fileB_renamed.txt\n",
        "echo \"Expected Output (check with ls):\"\n",
        "ls\n",
        "echo \"\"\n",
        "echo \"Example (moving a file):\"\n",
        "echo \"mv fileB_renamed.txt destination_dir/\"\n",
        "mv fileB_renamed.txt destination_dir/\n",
        "echo \"Expected Output (check with ls and ls destination_dir/):\"\n",
        "ls\n",
        "echo \"\"\n",
        "ls destination_dir/\n",
        "echo \"\"\n",
        "echo \"Example (renaming a directory):\"\n",
        "echo \"mv destination_dir moved_directory\"\n",
        "mv destination_dir moved_directory\n",
        "echo \"Expected Output (check with ls):\"\n",
        "ls\n",
        "echo \"\""
      ],
      "metadata": {
        "colab": {
          "base_uri": "https://localhost:8080/"
        },
        "id": "DypW3W_kGF78",
        "outputId": "002c549a-9c37-46a7-ab66-780b9055939d"
      },
      "execution_count": null,
      "outputs": [
        {
          "output_type": "stream",
          "name": "stdout",
          "text": [
            "### ------------- Moving and renaming files and directories with 'mv' -------------\n",
            "Purpose: The 'mv' command is used to move or rename files and directories.\n",
            "Example (renaming a file):\n",
            "mv fileB_copy.txt fileB_renamed.txt\n",
            "Expected Output (check with ls):\n",
            "destination_dir\n",
            "fileB_renamed.txt\n",
            "fileB.txt\n",
            "moved_directory\n",
            "source_dir\n",
            "\n",
            "Example (moving a file):\n",
            "mv fileB_renamed.txt destination_dir/\n",
            "Expected Output (check with ls and ls destination_dir/):\n",
            "destination_dir\n",
            "fileB.txt\n",
            "moved_directory\n",
            "source_dir\n",
            "\n",
            "fileB_renamed.txt\n",
            "fileD.txt\n",
            "\n",
            "Example (renaming a directory):\n",
            "mv destination_dir moved_directory\n",
            "Expected Output (check with ls):\n",
            "fileB.txt\n",
            "moved_directory\n",
            "source_dir\n",
            "\n"
          ]
        }
      ]
    },
    {
      "cell_type": "markdown",
      "metadata": {
        "id": "64fcebd7"
      },
      "source": [
        "## Work with file content\n",
        "\n",
        "Commands for viewing, editing, and searching within files.\n"
      ]
    },
    {
      "cell_type": "markdown",
      "metadata": {
        "id": "b4b34ec8"
      },
      "source": [
        "The first step is to change the current directory to `bash_tutorial/file_content` and then add sample text to the three files using `echo` with redirection."
      ]
    },
    {
      "cell_type": "code",
      "metadata": {
        "id": "bb4ca85c"
      },
      "source": [
        "%%bash\n",
        "cd bash_tutorial/file_content\n",
        "\n",
        "echo \"This is the first line of file1.txt.\" > file1.txt\n",
        "echo \"This is the second line of file1.txt.\" >> file1.txt\n",
        "echo \"This is the third line of file1.txt.\" >> file1.txt\n",
        "\n",
        "echo \"Content for file2.txt: Line 1\" > file2.txt\n",
        "echo \"Content for file2.txt: Line 2\" >> file2.txt\n",
        "echo \"Content for file2.txt: Line 3\" >> file2.txt\n",
        "echo \"Content for file2.txt: Line 4\" >> file2.txt\n",
        "\n",
        "echo \"File3 content - line 1\" > file3.txt\n",
        "echo \"File3 content - line 2\" >> file3.txt"
      ],
      "execution_count": null,
      "outputs": []
    },
    {
      "cell_type": "markdown",
      "source": [
        "Read the contents of the 3 files:"
      ],
      "metadata": {
        "id": "S7uEjJlpNHf3"
      }
    },
    {
      "cell_type": "code",
      "source": [
        "%%bash\n",
        "cd bash_tutorial/file_content\n",
        "\n",
        "cat file1.txt\n",
        "echo \"\"\n",
        "cat file2.txt\n",
        "echo \"\"\n",
        "cat file3.txt"
      ],
      "metadata": {
        "colab": {
          "base_uri": "https://localhost:8080/"
        },
        "id": "ZquRUPSvMlRq",
        "outputId": "e2e16582-e36d-4ec4-db66-80c9ce6d9f41"
      },
      "execution_count": null,
      "outputs": [
        {
          "output_type": "stream",
          "name": "stdout",
          "text": [
            "This is the first line of file1.txt.\n",
            "This is the second line of file1.txt.\n",
            "This is the third line of file1.txt.\n",
            "\n",
            "Content for file2.txt: Line 1\n",
            "Content for file2.txt: Line 2\n",
            "Content for file2.txt: Line 3\n",
            "Content for file2.txt: Line 4\n",
            "\n",
            "File3 content - line 1\n",
            "File3 content - line 2\n"
          ]
        }
      ]
    },
    {
      "cell_type": "markdown",
      "metadata": {
        "id": "5bdf8d1a"
      },
      "source": [
        "**`cat`, `less`, `head`, `tail`,** and **`grep`** commands with examples and expected outputs.\n",
        "\n",
        "Introducing **`nano`**/**`vim`** too.\n",
        "\n"
      ]
    },
    {
      "cell_type": "code",
      "metadata": {
        "colab": {
          "base_uri": "https://localhost:8080/"
        },
        "id": "4e4186c0",
        "outputId": "34ab1064-6472-4022-8279-fb3249869aaa"
      },
      "source": [
        "%%bash\n",
        "cd bash_tutorial/file_content\n",
        "\n",
        "echo \"### Viewing File Content\"\n",
        "echo \"\"\n",
        "\n",
        "# 3. Introduce and demonstrate 'cat'\n",
        "echo \"### ------------- The 'cat' command\" -------------\n",
        "echo \"Purpose: 'cat' command (short for concatenate) displays the entire content of one or more files; it's also used to combine files.\"\n",
        "echo \"Example:\"\n",
        "echo 'cat file1.txt'\n",
        "echo \"Expected Output:\"\n",
        "cat file1.txt\n",
        "echo \"\"\n"
      ],
      "execution_count": null,
      "outputs": [
        {
          "output_type": "stream",
          "name": "stdout",
          "text": [
            "### Viewing File Content\n",
            "\n",
            "### ------------- The 'cat' command -------------\n",
            "Purpose: 'cat' command (short for concatenate) displays the entire content of one or more files; it's also used to combine files.\n",
            "Example:\n",
            "cat file1.txt\n",
            "Expected Output:\n",
            "This is the first line of file1.txt.\n",
            "This is the second line of file1.txt.\n",
            "This is the third line of file1.txt.\n",
            "\n"
          ]
        }
      ]
    },
    {
      "cell_type": "code",
      "source": [
        "%%bash\n",
        "cd bash_tutorial/file_content\n",
        "\n",
        "# 4. Introduce and demonstrate 'less'\n",
        "echo \"### ------------- The 'less' command\" -------------\n",
        "echo \"Purpose: 'less' command shows file's content page by page; useful for large files as it doesn't load the entire file into memory at once.\"\n",
        "echo \"How to navigate within less:\"\n",
        "echo \"  - Spacebar: Scroll down one page\"\n",
        "echo \"  - b: Scroll up one page\"\n",
        "echo \"  - Enter: Scroll down one line\"\n",
        "echo \"  - Up/Down Arrows: Scroll up/down one line\"\n",
        "echo \"  - /pattern: Search for a pattern (press n for next match, N for previous match)\"\n",
        "echo \"  - q: Quit less\"\n",
        "echo \"Example (Note: This will open an interactive less session):\"\n",
        "echo 'less file2.txt'\n",
        "echo \"Expected Output: The content of file2.txt displayed page by page. Press 'q' to exit.\"\n",
        "echo \"\"\n"
      ],
      "metadata": {
        "colab": {
          "base_uri": "https://localhost:8080/"
        },
        "id": "Wg2Jrn-ZNmpj",
        "outputId": "535065fc-547d-46d0-f5f0-ba87e68d6d38"
      },
      "execution_count": null,
      "outputs": [
        {
          "output_type": "stream",
          "name": "stdout",
          "text": [
            "### ------------- The 'less' command -------------\n",
            "Purpose: 'less' command shows file's content page by page; useful for large files as it doesn't load the entire file into memory at once.\n",
            "How to navigate within less:\n",
            "  - Spacebar: Scroll down one page\n",
            "  - b: Scroll up one page\n",
            "  - Enter: Scroll down one line\n",
            "  - Up/Down Arrows: Scroll up/down one line\n",
            "  - /pattern: Search for a pattern (press n for next match, N for previous match)\n",
            "  - q: Quit less\n",
            "Example (Note: This will open an interactive less session):\n",
            "less file2.txt\n",
            "Expected Output: The content of file2.txt displayed page by page. Press 'q' to exit.\n",
            "\n"
          ]
        }
      ]
    },
    {
      "cell_type": "code",
      "source": [
        "%%bash\n",
        "cd bash_tutorial/file_content\n",
        "\n",
        "# 5. Introduce and demonstrate 'head'\n",
        "echo \"### ------------- The 'head' command\" -------------\n",
        "echo \"Purpose: 'head' command displays beginning lines of a file. By default, it shows first 10 lines.\"\n",
        "echo \"Example (default):\"\n",
        "echo 'head file2.txt'\n",
        "echo \"Expected Output (first 10 lines of file2.txt):\"\n",
        "head file2.txt\n",
        "echo \"\"\n",
        "echo \"Example with -n option (e.g., first 2 lines):\"\n",
        "echo 'head -n 2 file2.txt'\n",
        "echo \"Expected Output (first 2 lines of file2.txt):\"\n",
        "head -n 2 file2.txt\n",
        "echo \"\"\n"
      ],
      "metadata": {
        "colab": {
          "base_uri": "https://localhost:8080/"
        },
        "id": "ZOKy7HyTNn3T",
        "outputId": "ae91daf8-dfd4-47ee-e2eb-88c70530ad12"
      },
      "execution_count": null,
      "outputs": [
        {
          "output_type": "stream",
          "name": "stdout",
          "text": [
            "### ------------- The 'head' command -------------\n",
            "Purpose: 'head' command displays beginning lines of a file. By default, it shows first 10 lines.\n",
            "Example (default):\n",
            "head file2.txt\n",
            "Expected Output (first 10 lines of file2.txt):\n",
            "Content for file2.txt: Line 1\n",
            "Content for file2.txt: Line 2\n",
            "Content for file2.txt: Line 3\n",
            "Content for file2.txt: Line 4\n",
            "\n",
            "Example with -n option (e.g., first 2 lines):\n",
            "head -n 2 file2.txt\n",
            "Expected Output (first 2 lines of file2.txt):\n",
            "Content for file2.txt: Line 1\n",
            "Content for file2.txt: Line 2\n",
            "\n"
          ]
        }
      ]
    },
    {
      "cell_type": "code",
      "source": [
        "%%bash\n",
        "cd bash_tutorial/file_content\n",
        "\n",
        "# 6. Introduce and demonstrate 'tail'\n",
        "echo \"### ------------- The 'tail' command\" -------------\n",
        "echo \"Purpose: The 'tail' command displays the ending lines of a file. By default, it shows the last 10 lines.\"\n",
        "echo \"Example (default):\"\n",
        "echo 'tail file2.txt'\n",
        "echo \"Expected Output (last 10 lines of file2.txt):\"\n",
        "tail file2.txt\n",
        "echo \"\"\n",
        "echo \"Example with -n option (e.g., last 2 lines):\"\n",
        "echo 'tail -n 2 file2.txt'\n",
        "echo \"Expected Output (last 2 lines of file2.txt):\"\n",
        "tail -n 2 file2.txt\n",
        "echo \"\"\n"
      ],
      "metadata": {
        "colab": {
          "base_uri": "https://localhost:8080/"
        },
        "id": "vogwM4rzNpuC",
        "outputId": "df43bef6-efae-462f-a378-5ada109e3e5d"
      },
      "execution_count": null,
      "outputs": [
        {
          "output_type": "stream",
          "name": "stdout",
          "text": [
            "### ------------- The 'tail' command -------------\n",
            "Purpose: The 'tail' command displays the ending lines of a file. By default, it shows the last 10 lines.\n",
            "Example (default):\n",
            "tail file2.txt\n",
            "Expected Output (last 10 lines of file2.txt):\n",
            "Content for file2.txt: Line 1\n",
            "Content for file2.txt: Line 2\n",
            "Content for file2.txt: Line 3\n",
            "Content for file2.txt: Line 4\n",
            "\n",
            "Example with -n option (e.g., last 2 lines):\n",
            "tail -n 2 file2.txt\n",
            "Expected Output (last 2 lines of file2.txt):\n",
            "Content for file2.txt: Line 3\n",
            "Content for file2.txt: Line 4\n",
            "\n"
          ]
        }
      ]
    },
    {
      "cell_type": "code",
      "source": [
        "%%bash\n",
        "cd bash_tutorial/file_content\n",
        "\n",
        "# 7. Introduce and demonstrate 'grep'\n",
        "echo \"### ------------- The 'grep' (Global Regular Expression Print) command\" -------------\n",
        "echo \"Purpose: 'grep' searches for patterns (text) within files.\"\n",
        "echo \"Example (searching for 'second' in file1.txt):\"\n",
        "echo 'grep \"second\" file1.txt'\n",
        "echo \"Expected Output (lines containing 'second'):\"\n",
        "grep \"second\" file1.txt\n",
        "echo \"\"\n",
        "echo \"Example with -i option (case-insensitive search for 'LINE' in file2.txt):\"\n",
        "echo 'grep -i \"LINE\" file2.txt'\n",
        "echo \"Expected Output (lines containing 'LINE', case-insensitive):\"\n",
        "grep -i \"LINE\" file2.txt\n",
        "echo \"\"\n",
        "echo \"Example with -n option (search for 'content' in file3.txt and show line numbers):\"\n",
        "echo 'grep -n \"content\" file3.txt'\n",
        "echo \"Expected Output (lines containing 'content' with line numbers):\"\n",
        "grep -n \"content\" file3.txt\n",
        "echo \"\"\n"
      ],
      "metadata": {
        "colab": {
          "base_uri": "https://localhost:8080/"
        },
        "id": "vXP2TVvZNuuR",
        "outputId": "9072ed2d-b932-4e3b-96ca-5a72acf08669"
      },
      "execution_count": null,
      "outputs": [
        {
          "output_type": "stream",
          "name": "stdout",
          "text": [
            "### ------------- The 'grep' command -------------\n",
            "Purpose: The 'grep' command is a powerful tool for searching for patterns (text) within files. It stands for Global Regular Expression Print.\n",
            "Example (searching for 'second' in file1.txt):\n",
            "grep \"second\" file1.txt\n",
            "Expected Output (lines containing 'second'):\n",
            "This is the second line of file1.txt.\n",
            "\n",
            "Example with -i option (case-insensitive search for 'LINE' in file2.txt):\n",
            "grep -i \"LINE\" file2.txt\n",
            "Expected Output (lines containing 'LINE', case-insensitive):\n",
            "Content for file2.txt: Line 1\n",
            "Content for file2.txt: Line 2\n",
            "Content for file2.txt: Line 3\n",
            "Content for file2.txt: Line 4\n",
            "\n",
            "Example with -n option (search for 'content' in file3.txt and show line numbers):\n",
            "grep -n \"content\" file3.txt\n",
            "Expected Output (lines containing 'content' with line numbers):\n",
            "1:File3 content - line 1\n",
            "2:File3 content - line 2\n",
            "\n"
          ]
        }
      ]
    },
    {
      "cell_type": "code",
      "source": [
        "%%bash\n",
        "cd bash_tutorial/file_content\n",
        "\n",
        "# 8. Introduce 'nano' or 'vim'\n",
        "echo \"### -------------- Text Editors: 'nano' and 'vim'\" --------------\n",
        "echo \"Purpose: 'nano' and 'vim' are command-line text editors used for modifying file content.\"\n",
        "echo \"'nano' is generally considered more user-friendly for beginners.\"\n",
        "echo \"'vim' is a powerful, highly configurable editor with steeper learning curve.\"\n",
        "echo \"\"\n",
        "echo \"To edit a file, you would typically run:\"\n",
        "echo \"  nano filename.txt\"\n",
        "echo \"or\"\n",
        "echo \"  vim filename.txt\"\n",
        "echo \"Note: Running these commands will open an interactive editor session in the terminal.\"\n",
        "echo \"\""
      ],
      "metadata": {
        "colab": {
          "base_uri": "https://localhost:8080/"
        },
        "id": "sCeZi7dSNwFu",
        "outputId": "228484e5-56a4-4c53-a85d-64be61e9e6ce"
      },
      "execution_count": null,
      "outputs": [
        {
          "output_type": "stream",
          "name": "stdout",
          "text": [
            "### -------------- Text Editors: 'nano' and 'vim' --------------\n",
            "Purpose: 'nano' and 'vim' are command-line text editors used for modifying file content.\n",
            "'nano' is generally considered more user-friendly for beginners.\n",
            "'vim' is a powerful, highly configurable editor with steeper learning curve.\n",
            "\n",
            "To edit a file, you would typically run:\n",
            "  nano filename.txt\n",
            "or\n",
            "  vim filename.txt\n",
            "Note: Running these commands will open an interactive editor session in the terminal.\n",
            "\n"
          ]
        }
      ]
    },
    {
      "cell_type": "markdown",
      "metadata": {
        "id": "2c6e6349"
      },
      "source": [
        "## File permissions, modifications and ownership\n"
      ]
    },
    {
      "cell_type": "markdown",
      "metadata": {
        "id": "6af7bbfa"
      },
      "source": [
        "Vewing permissions with `ls -l` ; `chmod`, `chown`, and `chgrp` commands."
      ]
    },
    {
      "cell_type": "code",
      "metadata": {
        "colab": {
          "base_uri": "https://localhost:8080/"
        },
        "id": "8258c909",
        "outputId": "f74b80b7-0eae-40ab-d042-41b756674c90"
      },
      "source": [
        "%%bash\n",
        "cd bash_tutorial/permissions\n",
        "\n",
        "# Create a sample file to demonstrate permissions\n",
        "touch sample_permission_file.txt\n",
        "mkdir sample_permission_dir\n",
        "echo \"Folders/Files added:\"\n",
        "ls -h"
      ],
      "execution_count": null,
      "outputs": [
        {
          "output_type": "stream",
          "name": "stdout",
          "text": [
            "Folders/Files added:\n",
            "sample_permission_dir\n",
            "sample_permission_file.txt\n"
          ]
        }
      ]
    },
    {
      "cell_type": "markdown",
      "source": [
        "**Understanding File Permissions**\n",
        "\n",
        "File permissions in bash control who can read/write/execute a file/directory. Permissions are defined for three categories:\n",
        "\n",
        "- Owner: The user who owns the file or directory.\n",
        "- Group: A group of users who have specific permissions.\n",
        "- Others: All other users on the system.\n",
        "\n",
        "The three types of permissions are:\n",
        "- Read (**r**): Allows viewing the content of a file or listing the contents of a directory.\n",
        "- Write (**w**): Allows modifying the content of a file or creating/deleting files within a directory.\n",
        "- Execute (**x**): Allows running an executable file or entering a directory."
      ],
      "metadata": {
        "id": "mXaEmjl0VnBP"
      }
    },
    {
      "cell_type": "code",
      "source": [
        "%%bash\n",
        "cd bash_tutorial/permissions\n",
        "\n",
        "echo \"### ---------------- Viewing File Permissions with 'ls -l' ----------------\"\n",
        "echo \"The 'ls -l' command provides a long listing format, including file permissions.\"\n",
        "echo \"Example:\"\n",
        "echo 'ls -l'\n",
        "echo \"Expected Output Format:\"\n",
        "ls -l\n",
        "echo \"\""
      ],
      "metadata": {
        "colab": {
          "base_uri": "https://localhost:8080/"
        },
        "id": "52DrQpZiUhep",
        "outputId": "087b6c17-22fc-41a7-bf07-4361dc7e148a"
      },
      "execution_count": null,
      "outputs": [
        {
          "output_type": "stream",
          "name": "stdout",
          "text": [
            "### ---------------- Viewing File Permissions with 'ls -l' ----------------\n",
            "The 'ls -l' command provides a long listing format, including file permissions.\n",
            "Example:\n",
            "ls -l\n",
            "Expected Output Format:\n",
            "total 4\n",
            "drwxr-xr-x 2 root root 4096 Oct  6 07:01 sample_permission_dir\n",
            "-rw-r--r-- 1 root root    0 Oct  6 07:01 sample_permission_file.txt\n",
            "\n"
          ]
        }
      ]
    },
    {
      "cell_type": "markdown",
      "source": [
        "**Explanation of the permission string (e.g., -rwxr-xr--):**\n",
        "- First character indicates file type (**-** for regular file, **d** for directory, **l** (lowercase L) for symbolic link, etc.).\n",
        "- The next three characters (rwx) represent the owner's permissions.\n",
        "- The following three characters (r-x) represent the group's permissions.\n",
        "- The last three characters (r--) represent the permissions for others.\n",
        "- A hyphen (-) means the **permission is not granted**."
      ],
      "metadata": {
        "id": "ABLYuAPmWpNi"
      }
    },
    {
      "cell_type": "markdown",
      "source": [
        "**Changing Permissions with `chmod`**\n",
        "\n",
        "`chmod` changes file and directory permissions & can be used in two modes: **symbolic** mode and **octal** mode."
      ],
      "metadata": {
        "id": "mBvmiwFxWMWK"
      }
    },
    {
      "cell_type": "markdown",
      "source": [
        "**Symbolic Mode**\n",
        "\n",
        "- **u**: owner, **g**: group, **o**: others, **a**: all (owner, group, and others)\n",
        "- **+**: add a permission, **-**: remove a permission, **=**: set permissions exactly\n",
        "- **r**: read, **w**: write, **x**: execute"
      ],
      "metadata": {
        "id": "7SC1o1cUXsGv"
      }
    },
    {
      "cell_type": "code",
      "source": [
        "%%bash\n",
        "cd bash_tutorial/permissions\n",
        "\n",
        "echo \"Adding write permission for the GROUP:\"\n",
        "echo 'chmod g+w sample_permission_file.txt'\n",
        "chmod g+w sample_permission_file.txt\n",
        "echo \"\"\n",
        "echo \"Check permissions:\"\n",
        "ls -l sample_permission_file.txt"
      ],
      "metadata": {
        "colab": {
          "base_uri": "https://localhost:8080/"
        },
        "id": "YrSGIcN4WOM0",
        "outputId": "3be87e93-c148-45b7-f472-6dd781555122"
      },
      "execution_count": null,
      "outputs": [
        {
          "output_type": "stream",
          "name": "stdout",
          "text": [
            "Adding write permission for the GROUP:\n",
            "chmod g+w sample_permission_file.txt\n",
            "\n",
            "Check permissions:\n",
            "-rw-rw-r-- 1 root root 0 Oct  6 07:01 sample_permission_file.txt\n"
          ]
        }
      ]
    },
    {
      "cell_type": "code",
      "source": [
        "%%bash\n",
        "cd bash_tutorial/permissions\n",
        "\n",
        "echo \"Removing execute permission for OTHERS\"\n",
        "echo 'chmod o-x sample_permission_file.txt'\n",
        "chmod o-x sample_permission_file.txt\n",
        "echo \"\"\n",
        "echo \"Check permissions:\"\n",
        "ls -l sample_permission_file.txt"
      ],
      "metadata": {
        "colab": {
          "base_uri": "https://localhost:8080/"
        },
        "id": "tP8dbGmab2ra",
        "outputId": "54dfd928-0001-4180-8593-909fbc0eb286"
      },
      "execution_count": null,
      "outputs": [
        {
          "output_type": "stream",
          "name": "stdout",
          "text": [
            "Removing execute permission for OTHERS\n",
            "chmod o-x sample_permission_file.txt\n",
            "\n",
            "Check permissions:\n",
            "-rw-rw-r-- 1 root root 0 Oct  6 07:01 sample_permission_file.txt\n"
          ]
        }
      ]
    },
    {
      "cell_type": "code",
      "source": [
        "%%bash\n",
        "cd bash_tutorial/permissions\n",
        "\n",
        "echo \"Setting read and write permissions for the OWNER, and only read for GROUP and OTHERS\"\n",
        "echo 'chmod u=rw,g=r,o=r sample_permission_file.txt'\n",
        "chmod u=rw,g=r,o=r sample_permission_file.txt\n",
        "echo \"\"\n",
        "echo \"Check permissions:\"\n",
        "ls -l sample_permission_file.txt"
      ],
      "metadata": {
        "colab": {
          "base_uri": "https://localhost:8080/"
        },
        "id": "v9GQK43Ob3xd",
        "outputId": "3098e2d0-9b35-4d1d-f022-8f444a873064"
      },
      "execution_count": null,
      "outputs": [
        {
          "output_type": "stream",
          "name": "stdout",
          "text": [
            "Setting read and write permissions for the OWNER, and only read for GROUP and OTHERS\n",
            "chmod u=rw,g=r,o=r sample_permission_file.txt\n",
            "\n",
            "Check permissions:\n",
            "-rw-r--r-- 1 root root 0 Oct  6 07:01 sample_permission_file.txt\n"
          ]
        }
      ]
    },
    {
      "cell_type": "markdown",
      "source": [
        "**Octal Mode (numerical representation)**\n",
        "\n",
        "Each permission type **(r, w, x)** has a numerical value:\n",
        "- r = 4\n",
        "- w = 2\n",
        "- x = 1\n",
        "\n",
        "Total permission for each category (**owner, group, others**) is the sum of the values for the granted permissions.\n",
        "\n",
        "Examples:\n",
        "- **rwx** = 4 + 2 + 1 = 7 (read, write, execute)\n",
        "- **rw-** = 4 + 2 + 0 = 6 (read, write)\n",
        "- **r-x** = 4 + 0 + 1 = 5 (read, execute)\n",
        "- **r--** = 4 + 0 + 0 = 4 (read only)\n",
        "- **---** = 0 + 0 + 0 = 0 (no permissions)\n",
        "\n",
        "A three-digit number represents permissions for owner, group, and others respectively.\""
      ],
      "metadata": {
        "id": "SGKdAHV4YGP2"
      }
    },
    {
      "cell_type": "code",
      "source": [
        "%%bash\n",
        "cd bash_tutorial/permissions\n",
        "\n",
        "echo \"Setting permissions to rwx for owner, r-x for group, and r-- for others (754)\"\n",
        "echo 'chmod 754 sample_permission_file.txt'\n",
        "chmod 754 sample_permission_file.txt\n",
        "echo \"\"\n",
        "echo \"Check permissions:\"\n",
        "ls -l sample_permission_file.txt"
      ],
      "metadata": {
        "colab": {
          "base_uri": "https://localhost:8080/"
        },
        "id": "9eifNQT3WVxo",
        "outputId": "0fd29aca-c109-44ba-b5d3-033a9dd3310b"
      },
      "execution_count": null,
      "outputs": [
        {
          "output_type": "stream",
          "name": "stdout",
          "text": [
            "Setting permissions to rwx for owner, r-x for group, and r-- for others (754)\n",
            "chmod 754 sample_permission_file.txt\n",
            "\n",
            "Check permissions:\n",
            "-rwxr-xr-- 1 root root 0 Oct  6 07:01 sample_permission_file.txt\n"
          ]
        }
      ]
    },
    {
      "cell_type": "code",
      "source": [
        "%%bash\n",
        "cd bash_tutorial/permissions\n",
        "\n",
        "echo \"Setting permissions for a directory (e.g., rwxr-xr-x or 755)\"\n",
        "echo 'chmod 755 sample_permission_dir'\n",
        "chmod 755 sample_permission_dir\n",
        "echo \"\"\n",
        "echo \"Check permissions:\"\n",
        "ls -ld sample_permission_dir # Use -d to show directory permissions itself"
      ],
      "metadata": {
        "colab": {
          "base_uri": "https://localhost:8080/"
        },
        "id": "QcwXiYePf_OT",
        "outputId": "2f5638e6-ca74-497e-d482-602815237127"
      },
      "execution_count": null,
      "outputs": [
        {
          "output_type": "stream",
          "name": "stdout",
          "text": [
            "Setting permissions for a directory (e.g., rwxr-xr-x or 755)\n",
            "chmod 755 sample_permission_dir\n",
            "\n",
            "Check permissions:\n",
            "drwxr-xr-x 2 root root 4096 Oct  6 07:01 sample_permission_dir\n"
          ]
        }
      ]
    },
    {
      "cell_type": "markdown",
      "source": [
        "**Changing Ownership with `chown`**\n",
        "\n",
        "**`chown`** command for changing the owner of a file/directory.\n",
        "\n",
        "Example (Note: This requires root privileges or ownership of the file):\n",
        "\n",
        "`sudo chown new_owner_username sample_permission_file.txt`\n",
        "\n",
        "Expected effect: The owner of `sample_permission_file.txt` will change to `new_owner_username`.\n",
        "(Cannot execute without `sudo` and a valid user)"
      ],
      "metadata": {
        "id": "WVannw44WYm8"
      }
    },
    {
      "cell_type": "markdown",
      "source": [
        "**Changing Group Ownership with `chgrp`**\n",
        "\n",
        "**`chgrp`** command changes the **group ownership** of a file/directory.\"\n",
        "\n",
        "Example (Note: You typically need to be the owner of the file or have root privileges):\"\n",
        "\n",
        "`chgrp new_group_name sample_permission_file.txt`\n",
        "\n",
        "Expected effect: The group ownership of `sample_permission_file.txt` will change to `new_group_name`.\n",
        "(Cannot execute without a valid group)"
      ],
      "metadata": {
        "id": "vbFOOr3nWZ5-"
      }
    },
    {
      "cell_type": "markdown",
      "metadata": {
        "id": "6dbeadc2"
      },
      "source": [
        "## Input/output redirection in bash\n",
        "\n",
        "Redirecting input and output in bash.\n"
      ]
    },
    {
      "cell_type": "markdown",
      "metadata": {
        "id": "473732be"
      },
      "source": [
        "Navigate to the correct directory and learn `stdin`, `stdout`, and `stderr`.\n",
        "\n"
      ]
    },
    {
      "cell_type": "markdown",
      "source": [
        "**Input/Output Redirection in Bash**\n",
        "\n",
        "Input/output redirection is a powerful feature in bash that allows one to change where commands read their input from or send their output to.\n"
      ],
      "metadata": {
        "id": "8a4540af"
      }
    },
    {
      "cell_type": "markdown",
      "source": [
        "**Standard Streams**\n",
        "\n",
        "Every running process in Linux typically has three standard streams:\n",
        "- Standard Input (stdin): This is where a command reads its input from. By default, `stdin` is connected to the keyboard.\n",
        "- Standard Output (stdout): This is where a command sends its normal output. By default, `stdout` is connected to the terminal screen.\n",
        "- Standard Error (stderr): This is where a command sends its error messages. By default, `stderr` is also connected to the terminal screen.\n",
        "\n",
        "Each of these streams is associated with a file descriptor:\n",
        "- **stdin**: file descriptor 0\n",
        "- **stdout**: file descriptor 1\n",
        "- **stderr**: file descriptor 2"
      ],
      "metadata": {
        "id": "iwrjbACihl2G"
      }
    },
    {
      "cell_type": "markdown",
      "metadata": {
        "id": "1755f59b"
      },
      "source": [
        "The `>` operator is used to redirect the standard output of a command to a file.\n",
        "If the file does not exist, it will be created. If it exists, its contents will be **overwritten**."
      ]
    },
    {
      "cell_type": "code",
      "metadata": {
        "colab": {
          "base_uri": "https://localhost:8080/"
        },
        "id": "53d24b77",
        "outputId": "b0d9092b-d550-4f7e-960d-85d9e6f4d97b"
      },
      "source": [
        "%%bash\n",
        "cd bash_tutorial/io_redirection\n",
        "\n",
        "echo \"------------- Redirecting output to a new file ---------------------\"\n",
        "echo 'echo \"This text will be in output1.txt\" > output1.txt'\n",
        "echo \"Expected Outcome: A new file named 'output1.txt' will be created containing the text 'This text will be in output1.txt'.\"\n",
        "echo \"\"\n",
        "echo \"Checking file content:\"\n",
        "echo \"--- Content of output1.txt ---\"\n",
        "echo \"This text will be in output1.txt\" > output1.txt\n",
        "cat output1.txt\n",
        "echo \"-----------------------------\""
      ],
      "execution_count": null,
      "outputs": [
        {
          "output_type": "stream",
          "name": "stdout",
          "text": [
            "------------- Redirecting output to a new file ---------------------\n",
            "echo \"This text will be in output1.txt\" > output1.txt\n",
            "Expected Outcome: A new file named 'output1.txt' will be created containing the text 'This text will be in output1.txt'.\n",
            "\n",
            "Checking file content:\n",
            "--- Content of output1.txt ---\n",
            "This text will be in output1.txt\n",
            "-----------------------------\n"
          ]
        }
      ]
    },
    {
      "cell_type": "code",
      "source": [
        "%%bash\n",
        "cd bash_tutorial/io_redirection\n",
        "\n",
        "echo \"--------- Redirecting output to OVERWRITE an existing file ---------\"\n",
        "echo 'echo \"This text will OVERWRITE the content of output1.txt\" > output1.txt'\n",
        "echo \"Expected Outcome: The content of 'output1.txt' will be replaced with the text 'This text will overwrite the content of output1.txt'.\"\n",
        "echo \"\"\n",
        "echo \"Checking file content:\"\n",
        "echo \"--- Content of output1.txt (after OVERWRITING) ---\"\n",
        "echo \"This text will overwrite the content of output1.txt\" > output1.txt\n",
        "cat output1.txt\n",
        "echo \"-----------------------------------------------\""
      ],
      "metadata": {
        "colab": {
          "base_uri": "https://localhost:8080/"
        },
        "id": "UTTH_TWViz6H",
        "outputId": "1f65aa5c-1091-4361-cbf1-b81570cb2b81"
      },
      "execution_count": null,
      "outputs": [
        {
          "output_type": "stream",
          "name": "stdout",
          "text": [
            "--------- Redirecting output to OVERWRITE an existing file ---------\n",
            "echo \"This text will OVERWRITE the content of output1.txt\" > output1.txt\n",
            "Expected Outcome: The content of 'output1.txt' will be replaced with the text 'This text will overwrite the content of output1.txt'.\n",
            "\n",
            "Checking file content:\n",
            "--- Content of output1.txt (after OVERWRITING) ---\n",
            "This text will overwrite the content of output1.txt\n",
            "-----------------------------------------------\n"
          ]
        }
      ]
    },
    {
      "cell_type": "markdown",
      "metadata": {
        "id": "fa5bb700"
      },
      "source": [
        "The **`>>`** operator is used to redirect the standard output of a command and **append** it to an existing file.\n",
        "If the file does not exist, it will be created."
      ]
    },
    {
      "cell_type": "code",
      "metadata": {
        "colab": {
          "base_uri": "https://localhost:8080/"
        },
        "id": "204e4b4f",
        "outputId": "6d6eebfe-4453-49e6-9192-23415612f632"
      },
      "source": [
        "%%bash\n",
        "cd bash_tutorial/io_redirection\n",
        "\n",
        "echo \"------------ Appending output to output1.txt -------------\"\n",
        "echo 'echo \"This text will be appended to output1.txt\" >> output1.txt'\n",
        "echo \"Expected Outcome: The text 'This text will be appended to output1.txt' will be added to the end of 'output1.txt'.\"\n",
        "echo \"\"\n",
        "echo \"Checking file content:\"\n",
        "echo \"--- Content of output1.txt (after APPENDING) ---\"\n",
        "echo \"This text will be appended to output1.txt\" >> output1.txt\n",
        "cat output1.txt\n",
        "echo \"---------------------------------------------\""
      ],
      "execution_count": null,
      "outputs": [
        {
          "output_type": "stream",
          "name": "stdout",
          "text": [
            "------------ Appending output to output1.txt -------------\n",
            "echo \"This text will be appended to output1.txt\" >> output1.txt\n",
            "Expected Outcome: The text 'This text will be appended to output1.txt' will be added to the end of 'output1.txt'.\n",
            "\n",
            "Checking file content:\n",
            "--- Content of output1.txt (after APPENDING) ---\n",
            "This text will overwrite the content of output1.txt\n",
            "This text will be appended to output1.txt\n",
            "---------------------------------------------\n"
          ]
        }
      ]
    },
    {
      "cell_type": "markdown",
      "metadata": {
        "id": "7a47c8ca"
      },
      "source": [
        "The **`<`** operator is used to redirect the standard input of a command to come from a file instead of the keyboard."
      ]
    },
    {
      "cell_type": "code",
      "metadata": {
        "id": "dade464a"
      },
      "source": [
        "%%bash\n",
        "cd bash_tutorial/io_redirection\n",
        "\n",
        "# Create a sample input file\n",
        "echo \"Line 1 from input.txt\" > input.txt\n",
        "echo \"Line 2 from input.txt\" >> input.txt\n",
        "echo \"Line 3 from input.txt\" >> input.txt"
      ],
      "execution_count": null,
      "outputs": []
    },
    {
      "cell_type": "code",
      "source": [
        "%%bash\n",
        "cd bash_tutorial/io_redirection\n",
        "\n",
        "echo \"--------- Using 'cat' with input redirection -----------\"\n",
        "echo \"Purpose of 'cat' here: 'cat' without any arguments or with '-' reads from standard input.\"\n",
        "echo 'cat < input.txt'\n",
        "echo \"Expected Outcome: The content of 'input.txt' will be read by the 'cat' command and displayed on the standard output.\"\n",
        "echo \"Output:\"\n",
        "cat < input.txt"
      ],
      "metadata": {
        "colab": {
          "base_uri": "https://localhost:8080/"
        },
        "id": "Za8sYks1kpZ-",
        "outputId": "7edb24c4-bef8-45ee-9ed0-3e792ffc8a7e"
      },
      "execution_count": null,
      "outputs": [
        {
          "output_type": "stream",
          "name": "stdout",
          "text": [
            "--------- Using 'cat' with input redirection -----------\n",
            "Purpose of 'cat' here: 'cat' without any arguments or with '-' reads from standard input.\n",
            "cat < input.txt\n",
            "Expected Outcome: The content of 'input.txt' will be read by the 'cat' command and displayed on the standard output.\n",
            "Output:\n",
            "Line 1 from input.txt\n",
            "Line 2 from input.txt\n",
            "Line 3 from input.txt\n"
          ]
        }
      ]
    },
    {
      "cell_type": "code",
      "source": [
        "%%bash\n",
        "cd bash_tutorial/io_redirection\n",
        "\n",
        "# Another example with 'wc -l' (word count, lines)\n",
        "echo \"Example: Using 'wc -l' with input redirection\"\n",
        "echo \"Purpose of 'wc -l' here: 'wc -l' counts the number of lines it receives on standard input.\"\n",
        "echo 'wc -l < input.txt'\n",
        "echo \"\"\n",
        "echo \"Expected Outcome: The 'wc -l' command will count the lines in 'input.txt' and print the count.\"\n",
        "echo \"Output:\"\n",
        "wc -l < input.txt"
      ],
      "metadata": {
        "colab": {
          "base_uri": "https://localhost:8080/"
        },
        "id": "fy2DbjmDkwSw",
        "outputId": "590c5bd5-7cf9-4f91-b03f-179c7aa2276a"
      },
      "execution_count": null,
      "outputs": [
        {
          "output_type": "stream",
          "name": "stdout",
          "text": [
            "Example: Using 'wc -l' with input redirection\n",
            "Purpose of 'wc -l' here: 'wc -l' counts the number of lines it receives on standard input.\n",
            "wc -l < input.txt\n",
            "\n",
            "Expected Outcome: The 'wc -l' command will count the lines in 'input.txt' and print the count.\n",
            "Output:\n",
            "3\n"
          ]
        }
      ]
    },
    {
      "cell_type": "code",
      "source": [
        "%%bash\n",
        "cd bash_tutorial/io_redirection\n",
        "\n",
        "# Delete the input file\n",
        "rm input.txt"
      ],
      "metadata": {
        "id": "QCQ4sZFIlqsJ"
      },
      "execution_count": null,
      "outputs": []
    },
    {
      "cell_type": "markdown",
      "metadata": {
        "id": "a5ed3bfb"
      },
      "source": [
        "\n",
        "**Redirecting Standard Error** (**`2>`**)\n",
        "\n",
        "Standard error `stderr` is a separate stream (file descriptor 2) for error messages. To redirect only `stderr` to a file, you use the '2>' operator."
      ]
    },
    {
      "cell_type": "code",
      "metadata": {
        "colab": {
          "base_uri": "https://localhost:8080/"
        },
        "id": "3548f371",
        "outputId": "0dfcb9a6-8195-419a-8a1b-5c03fb56ac65"
      },
      "source": [
        "%%bash\n",
        "cd bash_tutorial/io_redirection\n",
        "\n",
        "# Example: Redirecting stderr\n",
        "# The 'ls' command with a non-existent file will produce an error on stderr\n",
        "echo \"-------------- Redirecting stderr of 'ls' command ------------------\"\n",
        "echo 'ls non_existent_file 2> error.log'\n",
        "echo \"Expected Outcome: The error message from 'ls' for 'non_existent_file' will be written to 'error.log'. Nothing will appear on stdout.\"\n",
        "ls non_existent_file 2> error.log\n",
        "echo \"\"\n",
        "echo \"Checking error file content:\"\n",
        "echo \"--- Content of error.log ---\"\n",
        "cat error.log\n",
        "echo \"----------------------------\""
      ],
      "execution_count": null,
      "outputs": [
        {
          "output_type": "stream",
          "name": "stdout",
          "text": [
            "-------------- Redirecting stderr of 'ls' command ------------------\n",
            "ls non_existent_file 2> error.log\n",
            "Expected Outcome: The error message from 'ls' for 'non_existent_file' will be written to 'error.log'. Nothing will appear on stdout.\n",
            "\n",
            "Checking error file content:\n",
            "--- Content of error.log ---\n",
            "ls: cannot access 'non_existent_file': No such file or directory\n",
            "----------------------------\n"
          ]
        }
      ]
    },
    {
      "cell_type": "code",
      "source": [
        "%%bash\n",
        "cd bash_tutorial/io_redirection\n",
        "\n",
        "# Delete the error file\n",
        "rm error.log"
      ],
      "metadata": {
        "id": "4IPvu7vxmYj4"
      },
      "execution_count": null,
      "outputs": []
    },
    {
      "cell_type": "markdown",
      "metadata": {
        "id": "ab0f22e2"
      },
      "source": [
        "**Redirecting Both Stdout and Stderr** (**&>** or **> file 2>&1**):\n",
        "Sometimes you want to capture both normal output and error messages in the same file.\n",
        "There are two common ways to do this:\n",
        "- Using **&> file**: This is a shorthand introduced in bash 4.\n",
        "- Using **> file 2>&1**: This is the traditional and more widely compatible way.\n",
        "\n",
        "**> file** redirects stdout (fd 1) to 'file'.\n",
        "\n",
        "**2>&1** redirects `stderr` (fd 2) to wherever `stdout` (fd 1) is currently pointing (which is now 'file')."
      ]
    },
    {
      "cell_type": "code",
      "metadata": {
        "colab": {
          "base_uri": "https://localhost:8080/"
        },
        "id": "2c761fb8",
        "outputId": "5d30f2e5-a7c9-4de0-b007-31776b0426c1"
      },
      "source": [
        "%%bash\n",
        "cd bash_tutorial/io_redirection\n",
        "\n",
        "# Create a command that outputs to both stdout and stderr\n",
        "echo \"Creating a test script that outputs to both stdout and stderr...\"\n",
        "cat << 'EOF' > test_output_script.sh\n",
        "#!/bin/bash\n",
        "echo \"This is standard output.\"\n",
        "echo \"This is standard error.\" >&2\n",
        "exit 0\n",
        "EOF\n",
        "chmod +x test_output_script.sh"
      ],
      "execution_count": null,
      "outputs": [
        {
          "output_type": "stream",
          "name": "stdout",
          "text": [
            "Creating a test script that outputs to both stdout and stderr...\n"
          ]
        }
      ]
    },
    {
      "cell_type": "markdown",
      "source": [
        "Reading the contents of `test_output_script.sh`:"
      ],
      "metadata": {
        "id": "OZeW0pvwtIYk"
      }
    },
    {
      "cell_type": "code",
      "source": [
        "%%bash\n",
        "cd bash_tutorial/io_redirection\n",
        "\n",
        "cat test_output_script.sh"
      ],
      "metadata": {
        "colab": {
          "base_uri": "https://localhost:8080/"
        },
        "id": "BuJgbg5Us5M9",
        "outputId": "de08a8d1-a8c9-472d-9827-daa73dfa3523"
      },
      "execution_count": null,
      "outputs": [
        {
          "output_type": "stream",
          "name": "stdout",
          "text": [
            "#!/bin/bash\n",
            "echo \"This is standard output.\"\n",
            "echo \"This is standard error.\" >&2\n",
            "exit 0\n"
          ]
        }
      ]
    },
    {
      "cell_type": "code",
      "source": [
        "%%bash\n",
        "cd bash_tutorial/io_redirection\n",
        "\n",
        "echo \"------------ Redirecting both stdout and stderr using '&>'------------------\"\n",
        "echo './test_output_script.sh &> combined_output1.log'\n",
        "echo \"\"\n",
        "echo \"Expected Outcome: Both the stdout and stderr messages from the script will be written to 'combined_output1.log'.\"\n",
        "./test_output_script.sh &> combined_output1.log\n",
        "echo \"\"\n",
        "echo \"Checking combined file content (using &>):\"\n",
        "echo \"--- Content of combined_output1.log ---\"\n",
        "cat combined_output1.log"
      ],
      "metadata": {
        "colab": {
          "base_uri": "https://localhost:8080/"
        },
        "id": "FabW-kC1rrtJ",
        "outputId": "d324ca08-a666-4c64-93e3-a9526e9af09f"
      },
      "execution_count": null,
      "outputs": [
        {
          "output_type": "stream",
          "name": "stdout",
          "text": [
            "------------ Redirecting both stdout and stderr using '&>'------------------\n",
            "./test_output_script.sh &> combined_output1.log\n",
            "\n",
            "Expected Outcome: Both the stdout and stderr messages from the script will be written to 'combined_output1.log'.\n",
            "\n",
            "Checking combined file content (using &>):\n",
            "--- Content of combined_output1.log ---\n",
            "This is standard output.\n",
            "This is standard error.\n"
          ]
        }
      ]
    },
    {
      "cell_type": "code",
      "source": [
        "%%bash\n",
        "cd bash_tutorial/io_redirection\n",
        "\n",
        "echo \"--------------- Redirecting both stdout and stderr using '> file 2>&1' ----------------------\"\n",
        "echo './test_output_script.sh > combined_output2.log 2>&1'\n",
        "echo \"\"\n",
        "echo \"Expected Outcome: Both the stdout and stderr messages from the script will be written to 'combined_output2.log'.\"\n",
        "./test_output_script.sh > combined_output2.log 2>&1\n",
        "echo \"\"\n",
        "echo \"Checking combined file content (using > file 2>&1):\"\n",
        "echo \"--- Content of combined_output2.log ---\"\n",
        "cat combined_output2.log"
      ],
      "metadata": {
        "colab": {
          "base_uri": "https://localhost:8080/"
        },
        "id": "GisttfV2rssD",
        "outputId": "d175b09b-8d72-4085-dfc1-ab593aca41ae"
      },
      "execution_count": null,
      "outputs": [
        {
          "output_type": "stream",
          "name": "stdout",
          "text": [
            "--------------- Redirecting both stdout and stderr using '> file 2>&1' ----------------------\n",
            "./test_output_script.sh > combined_output2.log 2>&1\n",
            "\n",
            "Expected Outcome: Both the stdout and stderr messages from the script will be written to 'combined_output2.log'.\n",
            "\n",
            "Checking combined file content (using > file 2>&1):\n",
            "--- Content of combined_output2.log ---\n",
            "This is standard output.\n",
            "This is standard error.\n"
          ]
        }
      ]
    },
    {
      "cell_type": "code",
      "source": [
        "%%bash\n",
        "cd bash_tutorial/io_redirection\n",
        "\n",
        "# Delete the test files\n",
        "rm test_output_script.sh combined_output1.log combined_output2.log"
      ],
      "metadata": {
        "id": "Jy1xUKuorvi8"
      },
      "execution_count": null,
      "outputs": []
    },
    {
      "cell_type": "markdown",
      "metadata": {
        "id": "ad53c569"
      },
      "source": [
        "The pipe operator '|' redirects the standard output (stdout) of one command as standard input (stdin) to another command.\n",
        "This allows you to chain commands together, where the output of the first command is processed by the second command, and so on."
      ]
    },
    {
      "cell_type": "code",
      "metadata": {
        "colab": {
          "base_uri": "https://localhost:8080/"
        },
        "id": "7d21742e",
        "outputId": "f9a5478e-fb91-4c2e-c675-3e7798c5a7ea"
      },
      "source": [
        "%%bash\n",
        "cd bash_tutorial/io_redirection\n",
        "\n",
        "echo \"--------- Using 'ls -l' and piping its output to 'grep' ----------------\"\n",
        "echo 'ls -l | grep \"output1.txt\"'\n",
        "echo \"Expected Outcome: The long listing of files in the current directory will be piped to\"\n",
        "echo \"the 'grep' command, which will then filter the lines to find the one containing 'output1.txt' and print it.\"\n",
        "echo \"\"\n",
        "echo \"Output:\"\n",
        "ls -l | grep \"output1.txt\""
      ],
      "execution_count": null,
      "outputs": [
        {
          "output_type": "stream",
          "name": "stdout",
          "text": [
            "--------- Using 'ls -l' and piping its output to 'grep' ----------------\n",
            "ls -l | grep \"output1.txt\"\n",
            "Expected Outcome: The long listing of files in the current directory will be piped to\n",
            "the 'grep' command, which will then filter the lines to find the one containing 'output1.txt' and print it.\n",
            "\n",
            "Output:\n",
            "-rw-r--r-- 1 root root 94 Oct  6 08:08 output1.txt\n"
          ]
        }
      ]
    },
    {
      "cell_type": "code",
      "source": [
        "%%bash\n",
        "cd bash_tutorial/io_redirection\n",
        "\n",
        "echo \"------------ Using 'cat' and piping its output to 'wc -w' (word count) ----------\"\n",
        "echo 'cat output1.txt | wc -w'\n",
        "echo \"Expected Outcome: The content of 'output1.txt' will be piped to 'wc -w', which will count\"\n",
        "echo \"the number of words in the file and print the count.\"\n",
        "echo \"\"\n",
        "echo \"Output:\"\n",
        "cat output1.txt | wc -w"
      ],
      "metadata": {
        "colab": {
          "base_uri": "https://localhost:8080/"
        },
        "id": "j-ac96VJvv2i",
        "outputId": "e46b1870-cf38-40bf-859d-dfbe33ab5050"
      },
      "execution_count": null,
      "outputs": [
        {
          "output_type": "stream",
          "name": "stdout",
          "text": [
            "------------ Using 'cat' and piping its output to 'wc -w' (word count) ----------\n",
            "cat output1.txt | wc -w\n",
            "Expected Outcome: The content of 'output1.txt' will be piped to 'wc -w', which will count\n",
            "the number of words in the file and print the count.\n",
            "\n",
            "Output:\n",
            "15\n"
          ]
        }
      ]
    },
    {
      "cell_type": "code",
      "source": [
        "%%bash\n",
        "cd bash_tutorial/io_redirection\n",
        "\n",
        "# Delete the created file\n",
        "rm output1.txt"
      ],
      "metadata": {
        "id": "jl-0iF5gvx9x"
      },
      "execution_count": null,
      "outputs": []
    },
    {
      "cell_type": "markdown",
      "metadata": {
        "id": "58ba232b"
      },
      "source": [
        "## Variables, loops, conditionals, and functions\n"
      ]
    },
    {
      "cell_type": "markdown",
      "source": [
        "### Variables"
      ],
      "metadata": {
        "id": "jXCiKhNwxaE3"
      }
    },
    {
      "cell_type": "markdown",
      "source": [
        "**NOTE:** There should be no space before or after the **=** during variable assignment."
      ],
      "metadata": {
        "id": "UlgVxUkS-kT8"
      }
    },
    {
      "cell_type": "code",
      "metadata": {
        "colab": {
          "base_uri": "https://localhost:8080/"
        },
        "id": "cac374b3",
        "outputId": "2f206a5d-7658-4ceb-ce82-b1cccee8825c"
      },
      "source": [
        "%%bash\n",
        "cd bash_tutorial/scripting\n",
        "\n",
        "echo \"-------- Declaring and Assigning Variables -----------\"\n",
        "echo \"Variables are declared and assigned using the format: variable_name=value\"\n",
        "echo \"Note: There should be NO spaces around the equals sign.\"\n",
        "echo \"\"\n",
        "echo \"Example:\"\n",
        "echo 'my_string=\"Hello, World!\"'\n",
        "echo 'my_number=42'\n",
        "echo \"\"\n",
        "echo \"-------------- Accessing Variables --------------\"\n",
        "echo \"To access the value stored in a variable, prepend its name with a dollar sign (\\$).\"\n",
        "echo \"\"\n",
        "echo \"Example:\"\n",
        "echo 'echo $my_string'\n",
        "echo 'echo \"The answer is: $my_number\"'\n",
        "echo \"\"\n",
        "echo \"Expected Output:\"\n",
        "my_string=\"Hello, World!\"\n",
        "my_number=42\n",
        "echo $my_string\n",
        "echo \"The answer is: $my_number\""
      ],
      "execution_count": null,
      "outputs": [
        {
          "output_type": "stream",
          "name": "stdout",
          "text": [
            "-------- Declaring and Assigning Variables -----------\n",
            "Variables are declared and assigned using the format: variable_name=value\n",
            "Note: There should be NO spaces around the equals sign.\n",
            "\n",
            "Example:\n",
            "my_string=\"Hello, World!\"\n",
            "my_number=42\n",
            "\n",
            "-------------- Accessing Variables --------------\n",
            "To access the value stored in a variable, prepend its name with a dollar sign ($).\n",
            "\n",
            "Example:\n",
            "echo $my_string\n",
            "echo \"The answer is: $my_number\"\n",
            "\n",
            "Expected Output:\n",
            "Hello, World!\n",
            "The answer is: 42\n"
          ]
        }
      ]
    },
    {
      "cell_type": "code",
      "source": [
        "%%bash\n",
        "cd bash_tutorial/scripting\n",
        "\n",
        "echo \"--------- Variable Assignment with Command Output ------------\"\n",
        "echo \"You can assign the output of a command to a variable using command substitution \\`command\\` or \\$(command).\"\n",
        "echo \"\"\n",
        "echo \"Example:\"\n",
        "echo 'current_date=$(date)'\n",
        "echo 'echo \"Today is: $current_date\"'\n",
        "echo \"\"\n",
        "echo \"Expected Output:\"\n",
        "current_date=$(date)\n",
        "echo \"Today is: $current_date\"\n",
        "echo \"\""
      ],
      "metadata": {
        "id": "aDeqMLPf1SNI",
        "colab": {
          "base_uri": "https://localhost:8080/"
        },
        "outputId": "01960f6d-71a4-4291-8eba-7d7af35b2169"
      },
      "execution_count": null,
      "outputs": [
        {
          "output_type": "stream",
          "name": "stdout",
          "text": [
            "--------- Variable Assignment with Command Output ------------\n",
            "You can assign the output of a command to a variable using command substitution `command` or $(command).\n",
            "\n",
            "Example:\n",
            "current_date=$(date)\n",
            "echo \"Today is: $current_date\"\n",
            "\n",
            "Expected Output:\n",
            "Today is: Mon Oct  6 09:29:16 AM UTC 2025\n",
            "\n"
          ]
        }
      ]
    },
    {
      "cell_type": "markdown",
      "source": [
        "### Loops"
      ],
      "metadata": {
        "id": "NbNSI1gfxure"
      }
    },
    {
      "cell_type": "markdown",
      "source": [
        "#### **for** Loop"
      ],
      "metadata": {
        "id": "u88OAIuo98Z2"
      }
    },
    {
      "cell_type": "code",
      "source": [
        "%%bash\n",
        "cd bash_tutorial/scripting\n",
        "\n",
        "echo \"------------------- for loop ---------------------\"\n",
        "# echo \"Syntax:\"\n",
        "# echo \"for item in list\"\n",
        "# echo \"do\"\n",
        "# echo \"  # commands to execute for each item\"\n",
        "# echo \"done\"\n",
        "# echo \"\"\n",
        "\n",
        "# echo \"Example (iterating over numbers):\"\n",
        "# echo 'for i in 1 2 3 4 5'\n",
        "# echo 'do'\n",
        "# echo '  echo \"Number: $i\"'\n",
        "# echo 'done'\n",
        "# echo \"\"\n",
        "# echo \"Expected Output:\"\n",
        "for i in 1 2 'Tom' 'Sam' 3 4\n",
        "do\n",
        "  echo \"Number: $i\"\n",
        "done"
      ],
      "metadata": {
        "id": "SEu9WXYrxqpx",
        "colab": {
          "base_uri": "https://localhost:8080/"
        },
        "outputId": "2854c8d8-fbe6-4664-896d-f14f097aafaa"
      },
      "execution_count": null,
      "outputs": [
        {
          "output_type": "stream",
          "name": "stdout",
          "text": [
            "------------------- for loop ---------------------\n",
            "Number: 1\n",
            "Number: 2\n",
            "Number: Tom\n",
            "Number: Sam\n",
            "Number: 3\n",
            "Number: 4\n"
          ]
        }
      ]
    },
    {
      "cell_type": "code",
      "source": [
        "%%bash\n",
        "cd bash_tutorial/scripting\n",
        "\n",
        "echo \"Example (iterating over strings):\"\n",
        "# echo 'for fruit in apple banana cherry'\n",
        "# echo 'do'\n",
        "# echo '  echo \"I like $fruit\"'\n",
        "# echo 'done'\n",
        "# echo \"\"\n",
        "# echo \"Expected Output:\"\n",
        "for fruit in apple banana cherry\n",
        "do\n",
        "  echo \"I like $fruit\"\n",
        "done"
      ],
      "metadata": {
        "colab": {
          "base_uri": "https://localhost:8080/"
        },
        "id": "UdspPYq88vv8",
        "outputId": "19c80e98-c088-4890-fe77-27c0c9a47cb1"
      },
      "execution_count": null,
      "outputs": [
        {
          "output_type": "stream",
          "name": "stdout",
          "text": [
            "Example (iterating over strings):\n",
            "I like apple\n",
            "I like banana\n",
            "I like cherry\n"
          ]
        }
      ]
    },
    {
      "cell_type": "markdown",
      "source": [
        "#### **while** Loop"
      ],
      "metadata": {
        "id": "voYMXs0m-KBF"
      }
    },
    {
      "cell_type": "code",
      "source": [
        "%%bash\n",
        "cd bash_tutorial/scripting\n",
        "\n",
        "echo \"------------------- while loop ---------------------\"\n",
        "# echo \"Syntax:\"\n",
        "# echo \"while [ condition is true ]\"\n",
        "# echo \"do\"\n",
        "# echo \"  # commands to execute while condition is true\"\n",
        "# echo \"done\"\n",
        "# echo \"\"\n",
        "\n",
        "# echo \"Example:\"\n",
        "# echo 'count=0'\n",
        "# echo 'while [ $count -lt 3 ]'\n",
        "# echo 'do'\n",
        "# echo '  echo \"Count: $count\"'\n",
        "# echo '  count=$((count + 1)) # Increment count'\n",
        "# echo 'done'\n",
        "# echo \"\"\n",
        "\n",
        "# echo \"Expected Output:\"\n",
        "count=0\n",
        "while [ $count -lt 3 ]     # Notice the spaces post & pre '[' and ']'\n",
        "do\n",
        "  echo \"Count: $count\"\n",
        "  count=$((count + 1))\n",
        "done"
      ],
      "metadata": {
        "colab": {
          "base_uri": "https://localhost:8080/"
        },
        "id": "v3er8JH7-BXf",
        "outputId": "ee2db99e-6a18-41d5-ff7b-6494edd00b58"
      },
      "execution_count": null,
      "outputs": [
        {
          "output_type": "stream",
          "name": "stdout",
          "text": [
            "------------------- while loop ---------------------\n",
            "Count: 0\n",
            "Count: 1\n",
            "Count: 2\n"
          ]
        }
      ]
    },
    {
      "cell_type": "markdown",
      "source": [
        "### Conditionals"
      ],
      "metadata": {
        "id": "2S8X36PGx0HF"
      }
    },
    {
      "cell_type": "markdown",
      "source": [
        "#### **if, elif, else**\n",
        "\n",
        "The 'if' statement is used to test a condition.\n",
        "\n",
        "**Syntax:**\n",
        "\n",
        "```\n",
        "if [ condition ]\n",
        "then\n",
        "  # commands if condition is true\n",
        "elif [ another_condition ]\n",
        "then\n",
        "  # commands if another_condition is true\n",
        "else\n",
        "  # commands if none of the above conditions are true\n",
        "fi\n",
        "```\n",
        "\n",
        "**Test Conditions:** Test conditions are often enclosed in square brackets [ ] or double square brackets [[ ]]. Common test operators are as listed ahead:\n",
        "\n",
        "- -eq: equal to\n",
        "- -ne: not equal to\n",
        "- -lt: less than\n",
        "- -le: less than or equal to\n",
        "- -gt: greater than\n",
        "- -ge: greater than or equal to\n",
        "- = or ==: string equal to\n",
        "- !=: string not equal to\n",
        "- -z: string is empty\n",
        "- -n: string is not empty\n",
        "- -f: file exists and is a regular file\n",
        "- -d: file exists and is a directory\n"
      ],
      "metadata": {
        "id": "UWv8BSG_ot1h"
      }
    },
    {
      "cell_type": "code",
      "source": [
        "%%bash\n",
        "# cd bash_tutorial/scripting\n",
        "\n",
        "echo \"Example:\"\n",
        "echo 'my_number=10'\n",
        "echo 'if [ $my_number -gt 5 ]'\n",
        "echo 'then'\n",
        "echo '  echo \"$my_number is greater than 5\"'\n",
        "echo 'elif [ $my_number -eq 5 ]'\n",
        "echo 'then'\n",
        "echo '  echo \"$my_number is equal to 5\"'\n",
        "echo 'else'\n",
        "echo '  echo \"$my_number is less than 5\"'\n",
        "echo 'fi'\n",
        "echo \"\"\n",
        "\n",
        "echo \"Expected Output:\"\n",
        "my_number=10\n",
        "if [ $my_number -gt 5 ]\n",
        "then\n",
        "  echo \"$my_number is greater than 5\"\n",
        "elif [ $my_number -eq 5 ]\n",
        "then\n",
        "  echo \"$my_number is equal to 5\"\n",
        "else\n",
        "  echo \"$my_number is less than 5\"\n",
        "fi"
      ],
      "metadata": {
        "id": "p2p_hHEcxyfM",
        "colab": {
          "base_uri": "https://localhost:8080/"
        },
        "outputId": "084d93d5-12e2-473c-ab9c-7d7fb6bff493"
      },
      "execution_count": null,
      "outputs": [
        {
          "output_type": "stream",
          "name": "stdout",
          "text": [
            "Example:\n",
            "my_number=10\n",
            "if [ $my_number -gt 5 ]\n",
            "then\n",
            "  echo \"$my_number is greater than 5\"\n",
            "elif [ $my_number -eq 5 ]\n",
            "then\n",
            "  echo \"$my_number is equal to 5\"\n",
            "else\n",
            "  echo \"$my_number is less than 5\"\n",
            "fi\n",
            "\n",
            "Expected Output:\n",
            "10 is greater than 5\n"
          ]
        }
      ]
    },
    {
      "cell_type": "markdown",
      "source": [
        "### Functions"
      ],
      "metadata": {
        "id": "9FZJB3O8yIUE"
      }
    },
    {
      "cell_type": "markdown",
      "source": [
        "#### Function Syntax\n",
        "Functions can be defined using the `function` keyword or just the function name followed by parentheses. Syntax:\n",
        "```\n",
        "function my_function {\n",
        "  # commands in the function\n",
        "}\n",
        "```\n",
        "or\n",
        "```\n",
        "my_function () {\n",
        "  # commands in the function\n",
        "}\n",
        "```\n",
        "\n",
        "#### Calling Functions\n",
        "To call a function, simply use its name.\n",
        "```\n",
        "greet_user () {\n",
        "  echo \"Hello!\"\n",
        "}\n",
        "```\n",
        "`greet_user`\n",
        "\n",
        "O/p: \"Hello!\"\n"
      ],
      "metadata": {
        "id": "84ZfIOw-17v_"
      }
    },
    {
      "cell_type": "markdown",
      "source": [
        "#### Passing arguments to functions"
      ],
      "metadata": {
        "id": "BTp0OWxq3uCA"
      }
    },
    {
      "cell_type": "code",
      "source": [
        "%%bash\n",
        "\n",
        "echo \"### Passing Arguments to Functions\"\n",
        "# echo \"Arguments are passed to functions by listing them after the function name when calling it.\"\n",
        "# echo \"Inside the function, arguments are accessed using \\$1, \\$2, \\$3, and so on (\\$0 is the function name, \\$# is the number of arguments, \\$* or \\$@ is all arguments).\"\n",
        "# echo \"\"\n",
        "# echo \"Example:\"\n",
        "# echo 'greet_name () {'\n",
        "# echo '  echo \"Hello, $1!\"'\n",
        "# echo '}'\n",
        "# echo 'greet_name \"Alice\"'\n",
        "# echo 'greet_name \"Bob\"'\n",
        "# echo \"\"\n",
        "echo \"Expected Output:\"\n",
        "greet_name () {\n",
        "  echo \"Hello, $1!\"\n",
        "}\n",
        "greet_name \"Alice\"\n",
        "greet_name \"Bob\""
      ],
      "metadata": {
        "id": "ouvXMiXsyGmx",
        "colab": {
          "base_uri": "https://localhost:8080/"
        },
        "outputId": "7df4faf8-e515-4df6-d64b-5e9c8f2c1a91"
      },
      "execution_count": null,
      "outputs": [
        {
          "output_type": "stream",
          "name": "stdout",
          "text": [
            "### Passing Arguments to Functions\n",
            "Expected Output:\n",
            "Hello, Alice!\n",
            "Hello, Bob!\n"
          ]
        }
      ]
    },
    {
      "cell_type": "markdown",
      "source": [
        "#### Returning Values from Functions"
      ],
      "metadata": {
        "id": "Si-wCpbG4TWb"
      }
    },
    {
      "cell_type": "code",
      "source": [
        "%%bash\n",
        "cd bash_tutorial/scripting\n",
        "\n",
        "echo \"### Returning Values from Functions\"\n",
        "# echo \"Functions can return a status (0 for success, non-zero for failure) using the 'return' command. The return value can be accessed using \\$? after the function call.\"\n",
        "# echo \"To return actual data (like a string or number), you typically print it to standard output and capture the output using command substitution.\"\n",
        "# echo \"\"\n",
        "# echo \"Example (returning status):\"\n",
        "# echo 'check_file () {'\n",
        "# echo '  if [ -f \"$1\" ]'\n",
        "# echo '  then'\n",
        "# echo '    return 0 # File exists'\n",
        "# echo '  else'\n",
        "# echo '    return 1 # File does not exist'\n",
        "# echo '  fi'\n",
        "# echo '}'\n",
        "# echo 'touch my_test_file.txt'\n",
        "# echo 'check_file my_test_file.txt'\n",
        "# echo 'echo \"Status for my_test_file.txt: $?\"'\n",
        "# echo 'check_file non_existent_file.txt'\n",
        "# echo 'echo \"Status for non_existent_file.txt: $?\"'\n",
        "# echo 'rm my_test_file.txt'\n",
        "# echo \"\"\n",
        "echo \"Expected Output:\"\n",
        "check_file () {\n",
        "  if [ -f \"$1\" ]\n",
        "  then\n",
        "    return 0 # File exists\n",
        "  else\n",
        "    return 1 # File does not exist\n",
        "  fi\n",
        "}\n",
        "touch my_test_file.txt\n",
        "check_file my_test_file.txt\n",
        "echo \"Status for my_test_file.txt: $?\"\n",
        "check_file non_existent_file.txt\n",
        "echo \"Status for non_existent_file.txt: $?\"\n",
        "rm my_test_file.txt\n",
        "echo \"\"\n",
        "\n",
        "echo \"Example (returning data via stdout):\"\n",
        "# echo 'get_username () {'\n",
        "# echo '  whoami'\n",
        "# echo '}'\n",
        "# echo 'username=$(get_username)'\n",
        "# echo 'echo \"Current user is: $username\"'\n",
        "# echo \"\"\n",
        "echo \"Expected Output:\"\n",
        "get_username () {\n",
        "  whoami\n",
        "}\n",
        "username=$(get_username)\n",
        "echo \"Current user is: $username\""
      ],
      "metadata": {
        "colab": {
          "base_uri": "https://localhost:8080/"
        },
        "id": "BkNeYEjt3rk1",
        "outputId": "0eba9329-3f69-4330-811d-eb482d3b93dd"
      },
      "execution_count": null,
      "outputs": [
        {
          "output_type": "stream",
          "name": "stdout",
          "text": [
            "### Returning Values from Functions\n",
            "Expected Output:\n",
            "Status for my_test_file.txt: 0\n",
            "Status for non_existent_file.txt: 1\n",
            "\n",
            "Example (returning data via stdout):\n",
            "Expected Output:\n",
            "Current user is: root\n"
          ]
        }
      ]
    },
    {
      "cell_type": "markdown",
      "metadata": {
        "id": "8a08f07b"
      },
      "source": [
        "## Create and run .bat (batch) files"
      ]
    },
    {
      "cell_type": "markdown",
      "source": [
        "Batch files are script files in Windows that contain a series of commands to be executed by the Windows Command Prompt (cmd.exe). They are used to automate tasks, run multiple commands sequentially, and simplify repetitive operations. Batch files have the `.bat` or `.cmd` file extension."
      ],
      "metadata": {
        "id": "YFBhcOCO9amj"
      }
    },
    {
      "cell_type": "markdown",
      "source": [
        "**Syntax of a batch file**\n",
        "\n",
        "COMMANDS:\n",
        "\n",
        "  - `echo [message]`: Displays a message on the console.\n",
        "  - `echo off` is used to prevent the commands themselves from being displayed.\n",
        "  - `pause`: Halts the execution of the batch file and waits for the user to press any key.\n",
        "  - `@`: Placed before a command to prevent that specific command from being displayed (useful for the first `echo off`).\n",
        "\n",
        "COMMENTS:\n",
        "\n",
        "  - `REM [comment]`: Used to add comments to the batch file. These lines are ignored during execution."
      ],
      "metadata": {
        "id": "4SjddRwF-KP8"
      }
    },
    {
      "cell_type": "markdown",
      "metadata": {
        "id": "63a5a778"
      },
      "source": [
        "Create and display the content of the `hello.bat` file."
      ]
    },
    {
      "cell_type": "code",
      "metadata": {
        "id": "4d5e73d2",
        "colab": {
          "base_uri": "https://localhost:8080/"
        },
        "outputId": "6eab861b-1258-4b6b-8ccb-fec144c22683"
      },
      "source": [
        "import os\n",
        "\n",
        "hello_bat_content = \"\"\"@echo off\n",
        "REM This is a simple batch file\n",
        "echo Hello, Batch File!\n",
        "pause\n",
        "\"\"\"\n",
        "\n",
        "with open(\"hello.bat\", \"w\") as f:\n",
        "    f.write(hello_bat_content)\n",
        "\n",
        "print(\"### Content of hello.bat:\")\n",
        "print(\"```bat\")\n",
        "print(hello_bat_content)\n",
        "print(\"```\")"
      ],
      "execution_count": null,
      "outputs": [
        {
          "output_type": "stream",
          "name": "stdout",
          "text": [
            "### Content of hello.bat:\n",
            "```bat\n",
            "@echo off\n",
            "REM This is a simple batch file\n",
            "echo Hello, Batch File!\n",
            "pause\n",
            "\n",
            "```\n"
          ]
        }
      ]
    },
    {
      "cell_type": "markdown",
      "source": [
        "Create and display content of `variables.bat` batch file."
      ],
      "metadata": {
        "id": "Umhpp0GPCYh3"
      }
    },
    {
      "cell_type": "code",
      "source": [
        "variables_bat_content = \"\"\"@echo off\n",
        "REM This batch file demonstrates variables and basic commands\n",
        "\n",
        "REM --- Using Variables ---\n",
        "SET my_variable=This is a variable's value\n",
        "echo The value of my_variable is: %my_variable%\n",
        "echo. REM Prints a blank line\n",
        "\n",
        "SET another_variable=42\n",
        "echo The value of another_variable is: %another_variable%\n",
        "echo.\n",
        "\n",
        "REM --- Basic Commands ---\n",
        "echo Displaying current directory:\n",
        "cd\n",
        "echo.\n",
        "\n",
        "echo Listing files in current directory:\n",
        "dir\n",
        "echo.\n",
        "\n",
        "REM --- Pause to see output ---\n",
        "echo Press any key to exit...\n",
        "pause > nul REM Redirects pause output to nul to avoid \"Press any key to continue...\" message\n",
        "\"\"\"\n",
        "\n",
        "with open(\"variables.bat\", \"w\") as f:\n",
        "    f.write(variables_bat_content)\n",
        "\n",
        "print(\"### Content of variables.bat:\")\n",
        "print(\"```bat\")\n",
        "print(variables_bat_content)\n",
        "print(\"```\")"
      ],
      "metadata": {
        "colab": {
          "base_uri": "https://localhost:8080/"
        },
        "id": "lpkdvSbB-jtN",
        "outputId": "f771d537-f29f-445a-bb0e-1a971ebc11dc"
      },
      "execution_count": null,
      "outputs": [
        {
          "output_type": "stream",
          "name": "stdout",
          "text": [
            "### Content of variables.bat:\n",
            "```bat\n",
            "@echo off\n",
            "REM This batch file demonstrates variables and basic commands\n",
            "\n",
            "REM --- Using Variables ---\n",
            "SET my_variable=This is a variable's value\n",
            "echo The value of my_variable is: %my_variable%\n",
            "echo. REM Prints a blank line\n",
            "\n",
            "SET another_variable=42\n",
            "echo The value of another_variable is: %another_variable%\n",
            "echo.\n",
            "\n",
            "REM --- Basic Commands ---\n",
            "echo Displaying current directory:\n",
            "cd\n",
            "echo.\n",
            "\n",
            "echo Listing files in current directory:\n",
            "dir\n",
            "echo.\n",
            "\n",
            "REM --- Pause to see output ---\n",
            "echo Press any key to exit...\n",
            "pause > nul REM Redirects pause output to nul to avoid \"Press any key to continue...\" message\n",
            "\n",
            "```\n"
          ]
        }
      ]
    },
    {
      "cell_type": "markdown",
      "metadata": {
        "id": "e63cad29"
      },
      "source": [
        "**Execute a Batch File**\n",
        "\n",
        "Batch files can be executed from the Windows Command Prompt `cmd.exe` or PowerShell in a few ways:\n",
        "\n",
        "1. **Navigate to the directory:** Open `cmd.exe` or PowerShell, use the `cd` command to navigate to the directory where the batch file is located, and then type the name of the batch file (e.g., `hello.bat`).\n",
        "2. **Provide the full path:** Open `cmd.exe` or PowerShell and type the full path to the batch file (e.g., `C:\\\\Users\\\\YourUsername\\\\Documents\\\\hello.bat`).\n",
        "3. **Double-click (GUI):** In File Explorer, simply double-click the `.bat` file. This will open a Command Prompt window, execute the commands, and close the window when finished (unless `pause` is used).\n"
      ]
    },
    {
      "cell_type": "markdown",
      "source": [
        "**Execute a `.bat` file using Python**"
      ],
      "metadata": {
        "id": "b4Rb6eMlFUwn"
      }
    },
    {
      "cell_type": "markdown",
      "source": [
        "We can use Python's `subprocess` module to **simulate** executing the batch files [BUT IT WON'T RUN IN GOOGLE COLAB HERE SO DON'T RUN THE NEXT CELL]."
      ],
      "metadata": {
        "id": "YI9NiG8uE9aX"
      }
    },
    {
      "cell_type": "code",
      "metadata": {
        "id": "409d0927"
      },
      "source": [
        "import subprocess   # for running cmd.exe (BUT IT WON'T RUN IN GOOGLE COLAB HERE)\n",
        "\n",
        "# Execution of the batch files and their output\n",
        "print(\"### Demonstrating Batch File Execution\")\n",
        "print(\"\")\n",
        "\n",
        "print(\"#### Executing hello.bat:\")\n",
        "print(\"```bash\")\n",
        "# Execute hello.bat and capture output\n",
        "try:\n",
        "    result_hello = subprocess.run([\"cmd.exe\", \"/c\", \"hello.bat\"], capture_output=True, text=True, check=True)\n",
        "    print(result_hello.stdout)\n",
        "    print(result_hello.stderr)\n",
        "except subprocess.CalledProcessError as e:\n",
        "    print(f\"Error executing hello.bat: {e}\")\n",
        "    print(e.stdout)\n",
        "    print(e.stderr)\n",
        "print(\"```\")\n",
        "print(\"Expected Output: The 'Hello, Batch File!' message will be displayed, followed by a 'Press any key to continue...' prompt (which the subprocess execution won't fully show interactively).\")\n",
        "print(\"\")\n",
        "\n",
        "print(\"#### Executing variables.bat:\")\n",
        "print(\"```bash\")\n",
        "# Execute variables.bat and capture output\n",
        "try:\n",
        "    result_variables = subprocess.run([\"cmd.exe\", \"/c\", \"variables.bat\"], capture_output=True, text=True, check=True)\n",
        "    print(result_variables.stdout)\n",
        "    print(result_variables.stderr)\n",
        "except subprocess.CalledProcessError as e:\n",
        "    print(f\"Error executing variables.bat: {e}\")\n",
        "    print(e.stdout)\n",
        "    print(e.stderr)\n",
        "print(\"```\")\n",
        "print(\"Expected Output: The values of the variables will be displayed, followed by the current directory, the list of files, and finally the output from the `pause > nul` command (which is suppressed).\")\n",
        "print(\"\")"
      ],
      "execution_count": null,
      "outputs": []
    },
    {
      "cell_type": "markdown",
      "metadata": {
        "id": "000c252d"
      },
      "source": [
        "## Advanced topics\n"
      ]
    },
    {
      "cell_type": "markdown",
      "source": [
        "### Regular expressions"
      ],
      "metadata": {
        "id": "iu8XQ-62JIW2"
      }
    },
    {
      "cell_type": "markdown",
      "metadata": {
        "id": "36f6123a"
      },
      "source": [
        "**Regular expressions in bash using `grep` with various patterns and the `-E` option**\n",
        "\n",
        "1. Regular Expressions: Regular expressions (regex) are powerful patterns used to match combinations of characters in strings or text files. They are widely used for searching, filtering, and manipulating text.\n",
        "2. The 'grep' command is commonly used to search for lines that match a regular expression pattern in files."
      ]
    },
    {
      "cell_type": "code",
      "metadata": {
        "id": "1add85eb"
      },
      "source": [
        "%%bash\n",
        "cd bash_tutorial/advanced\n",
        "\n",
        "# Create a sample file for regex examples\n",
        "\n",
        "echo \"Line 1: This is the first line.\" > regex_example.txt\n",
        "echo \"Line 2: The second line starts with 'The'.\" >> regex_example.txt\n",
        "echo \"Line 3: This line ends with a word.\" >> regex_example.txt\n",
        "echo \"Line 4: Contains the pattern 'abc' within it.\" >> regex_example.txt\n",
        "echo \"line 5: starts with a lowercase letter.\" >> regex_example.txt\n",
        "echo \"Line 6: Another line.\" >> regex_example.txt\n",
        "echo \"Line 7: abc xyz 123\" >> regex_example.txt"
      ],
      "execution_count": null,
      "outputs": []
    },
    {
      "cell_type": "code",
      "source": [
        "%%bash\n",
        "cd bash_tutorial/advanced\n",
        "\n",
        "echo \"Sample file content (regex_example.txt):\"\n",
        "cat regex_example.txt"
      ],
      "metadata": {
        "colab": {
          "base_uri": "https://localhost:8080/"
        },
        "id": "Betxnim6GiD0",
        "outputId": "08df4c72-f3d2-44ec-d053-52d57f71d43e"
      },
      "execution_count": null,
      "outputs": [
        {
          "output_type": "stream",
          "name": "stdout",
          "text": [
            "Sample file content (regex_example.txt):\n",
            "Line 1: This is the first line.\n",
            "Line 2: The second line starts with 'The'.\n",
            "Line 3: This line ends with a word.\n",
            "Line 4: Contains the pattern 'abc' within it.\n",
            "line 5: starts with a lowercase letter.\n",
            "Line 6: Another line.\n",
            "Line 7: abc xyz 123\n"
          ]
        }
      ]
    },
    {
      "cell_type": "code",
      "source": [
        "%%bash\n",
        "cd bash_tutorial/advanced\n",
        "\n",
        "echo \"#### Basic Regex Patterns with 'grep'\"\n",
        "echo \"\"\n",
        "\n",
        "echo \"Example: Matching lines starting with 'Line'\"\n",
        "echo \"Pattern: ^Line\"\n",
        "echo \"Explanation: '^' anchors the pattern to the beginning of the line.\"\n",
        "echo 'grep \"^Line\" regex_example.txt'\n",
        "echo \"Expected Output:\"\n",
        "grep \"^Line\" regex_example.txt"
      ],
      "metadata": {
        "colab": {
          "base_uri": "https://localhost:8080/"
        },
        "id": "9jZXaSITGqvG",
        "outputId": "e5ba8756-7e3a-410b-c13c-8e2835f00864"
      },
      "execution_count": null,
      "outputs": [
        {
          "output_type": "stream",
          "name": "stdout",
          "text": [
            "#### Basic Regex Patterns with 'grep'\n",
            "\n",
            "Example: Matching lines starting with 'Line'\n",
            "Pattern: ^Line\n",
            "Explanation: '^' anchors the pattern to the beginning of the line.\n",
            "grep \"^Line\" regex_example.txt\n",
            "Expected Output:\n",
            "Line 1: This is the first line.\n",
            "Line 2: The second line starts with 'The'.\n",
            "Line 3: This line ends with a word.\n",
            "Line 4: Contains the pattern 'abc' within it.\n",
            "Line 6: Another line.\n",
            "Line 7: abc xyz 123\n"
          ]
        }
      ]
    },
    {
      "cell_type": "code",
      "source": [
        "%%bash\n",
        "cd bash_tutorial/advanced\n",
        "\n",
        "echo \"Example: Matching lines ending with '.'\"\n",
        "echo \"Pattern: \\.$\"\n",
        "echo \"Explanation: '\\$' anchors the pattern to the end of the line. '\\.' matches a literal dot (needs escaping with '\\').\"\n",
        "echo 'grep \"\\.$\" regex_example.txt'\n",
        "echo \"Expected Output:\"\n",
        "grep \"\\.$\" regex_example.txt"
      ],
      "metadata": {
        "colab": {
          "base_uri": "https://localhost:8080/"
        },
        "id": "DA5z3Zb2G4eH",
        "outputId": "7449c2ba-a354-4d52-a197-a9997b66c2ac"
      },
      "execution_count": null,
      "outputs": [
        {
          "output_type": "stream",
          "name": "stdout",
          "text": [
            "Example: Matching lines ending with '.'\n",
            "Pattern: \\.$\n",
            "Explanation: '$' anchors the pattern to the end of the line. '\\.' matches a literal dot (needs escaping with '\\').\n",
            "grep \"\\.$\" regex_example.txt\n",
            "Expected Output:\n",
            "Line 1: This is the first line.\n",
            "Line 2: The second line starts with 'The'.\n",
            "Line 3: This line ends with a word.\n",
            "Line 4: Contains the pattern 'abc' within it.\n",
            "line 5: starts with a lowercase letter.\n",
            "Line 6: Another line.\n"
          ]
        }
      ]
    },
    {
      "cell_type": "code",
      "source": [
        "%%bash\n",
        "cd bash_tutorial/advanced\n",
        "\n",
        "echo \"Example: Matching lines containing the pattern 'second'\"\n",
        "echo \"Pattern: second\"\n",
        "echo \"Explanation: Matches the literal string 'second' anywhere in the line.\"\n",
        "echo 'grep \"second\" regex_example.txt'\n",
        "echo \"Expected Output:\"\n",
        "grep \"second\" regex_example.txt"
      ],
      "metadata": {
        "colab": {
          "base_uri": "https://localhost:8080/"
        },
        "id": "4b74zP8JHFXo",
        "outputId": "7c655c15-ba29-40e6-dde9-688d0d0ba719"
      },
      "execution_count": null,
      "outputs": [
        {
          "output_type": "stream",
          "name": "stdout",
          "text": [
            "Example: Matching lines containing the pattern 'second'\n",
            "Pattern: second\n",
            "Explanation: Matches the literal string 'second' anywhere in the line.\n",
            "grep \"second\" regex_example.txt\n",
            "Expected Output:\n",
            "Line 2: The second line starts with 'The'.\n"
          ]
        }
      ]
    },
    {
      "cell_type": "code",
      "source": [
        "%%bash\n",
        "cd bash_tutorial/advanced\n",
        "\n",
        "echo \"Example: Matching lines containing 'abc'\"\n",
        "echo \"Pattern: abc\"\n",
        "echo \"Explanation: Matches the literal string 'abc' anywhere in the line.\"\n",
        "echo 'grep \"abc\" regex_example.txt'\n",
        "echo \"Expected Output:\"\n",
        "grep \"abc\" regex_example.txt"
      ],
      "metadata": {
        "colab": {
          "base_uri": "https://localhost:8080/"
        },
        "id": "f6sbrSgiHHL5",
        "outputId": "ae569dcf-ab17-4cd8-8a32-027a46fd0ce6"
      },
      "execution_count": null,
      "outputs": [
        {
          "output_type": "stream",
          "name": "stdout",
          "text": [
            "Example: Matching lines containing 'abc'\n",
            "Pattern: abc\n",
            "Explanation: Matches the literal string 'abc' anywhere in the line.\n",
            "grep \"abc\" regex_example.txt\n",
            "Expected Output:\n",
            "Line 4: Contains the pattern 'abc' within it.\n",
            "Line 7: abc xyz 123\n"
          ]
        }
      ]
    },
    {
      "cell_type": "code",
      "source": [
        "%%bash\n",
        "cd bash_tutorial/advanced\n",
        "\n",
        "echo \"#### Extended Regex Patterns with 'grep -E'\"\n",
        "echo \"The '-E' option in grep enables extended regular expressions, which support more advanced operators like +, ?, |, (), etc.\"\n",
        "echo \"\"\n",
        "\n",
        "echo \"Example: Matching lines containing 'abc' or 'xyz'\"\n",
        "echo \"Pattern: abc|xyz\"\n",
        "echo \"Explanation: '|' acts as an OR operator.\"\n",
        "echo 'grep -E \"abc|xyz\" regex_example.txt'\n",
        "echo \"Expected Output:\"\n",
        "grep -E \"abc|xyz\" regex_example.txt"
      ],
      "metadata": {
        "colab": {
          "base_uri": "https://localhost:8080/"
        },
        "id": "-SSBfm5rHIzL",
        "outputId": "27840573-0832-49e2-a3b4-f13ed7a99b6c"
      },
      "execution_count": null,
      "outputs": [
        {
          "output_type": "stream",
          "name": "stdout",
          "text": [
            "#### Extended Regex Patterns with 'grep -E'\n",
            "The '-E' option in grep enables extended regular expressions, which support more advanced operators like +, ?, |, (), etc.\n",
            "\n",
            "Example: Matching lines containing 'abc' or 'xyz'\n",
            "Pattern: abc|xyz\n",
            "Explanation: '|' acts as an OR operator.\n",
            "grep -E \"abc|xyz\" regex_example.txt\n",
            "Expected Output:\n",
            "Line 4: Contains the pattern 'abc' within it.\n",
            "Line 7: abc xyz 123\n"
          ]
        }
      ]
    },
    {
      "cell_type": "code",
      "source": [
        "%%bash\n",
        "cd bash_tutorial/advanced\n",
        "\n",
        "echo \"Example: Matching lines containing 'Line' followed by one or more digits\"\n",
        "echo \"Pattern: Line [0-9]+\"\n",
        "echo \"Explanation: '[0-9]' matches any digit, '+' matches ONE or MORE occurrences of the preceding element.\"\n",
        "echo 'grep -E \"Line [0-9]+\"' regex_example.txt\n",
        "echo \"Expected Output:\"\n",
        "grep -E \"Line [0-9]+\" regex_example.txt"
      ],
      "metadata": {
        "colab": {
          "base_uri": "https://localhost:8080/"
        },
        "id": "qZP-m6VVHMf4",
        "outputId": "0e21a22b-4e52-4384-8c8c-70f018410a07"
      },
      "execution_count": null,
      "outputs": [
        {
          "output_type": "stream",
          "name": "stdout",
          "text": [
            "Example: Matching lines containing 'Line' followed by one or more digits\n",
            "Pattern: Line [0-9]+\n",
            "Explanation: '[0-9]' matches any digit, '+' matches ONE or MORE occurrences of the preceding element.\n",
            "grep -E \"Line [0-9]+\" regex_example.txt\n",
            "Expected Output:\n",
            "Line 1: This is the first line.\n",
            "Line 2: The second line starts with 'The'.\n",
            "Line 3: This line ends with a word.\n",
            "Line 4: Contains the pattern 'abc' within it.\n",
            "Line 6: Another line.\n",
            "Line 7: abc xyz 123\n"
          ]
        }
      ]
    },
    {
      "cell_type": "code",
      "source": [
        "%%bash\n",
        "cd bash_tutorial/advanced\n",
        "\n",
        "echo \"Example: Matching lines containing 'Line' followed by an optional space and a digit\"\n",
        "echo \"Pattern: Line ?[0-9]\"\n",
        "echo \"Explanation: '?' matches ZERO or ONE occurrence of the preceding element (the space).\"\n",
        "echo 'grep -E \"Line ?[0-9]\"' regex_example.txt\n",
        "echo \"Expected Output:\"\n",
        "grep -E \"Line ?[0-9]\" regex_example.txt"
      ],
      "metadata": {
        "colab": {
          "base_uri": "https://localhost:8080/"
        },
        "id": "L5pfVv4KHP8S",
        "outputId": "e14b2bc0-a1d3-40cb-ab7a-91291378d6e5"
      },
      "execution_count": null,
      "outputs": [
        {
          "output_type": "stream",
          "name": "stdout",
          "text": [
            "Example: Matching lines containing 'Line' followed by an optional space and a digit\n",
            "Pattern: Line ?[0-9]\n",
            "Explanation: '?' matches ZERO or ONE occurrence of the preceding element (the space).\n",
            "grep -E \"Line ?[0-9]\" regex_example.txt\n",
            "Expected Output:\n",
            "Line 1: This is the first line.\n",
            "Line 2: The second line starts with 'The'.\n",
            "Line 3: This line ends with a word.\n",
            "Line 4: Contains the pattern 'abc' within it.\n",
            "Line 6: Another line.\n",
            "Line 7: abc xyz 123\n"
          ]
        }
      ]
    },
    {
      "cell_type": "code",
      "source": [
        "%%bash\n",
        "cd bash_tutorial/advanced\n",
        "\n",
        "echo \"Example: Matching lines that start with 'Line' or 'line' (case-insensitive using -i option)\"\n",
        "echo \"Pattern: ^(L|l)ine\"\n",
        "echo \"Explanation: '()' groups patterns, '|' is OR. Combined with '-i' for case-insensitivity.\"\n",
        "echo 'grep -i -E \"^(L|l)ine\"' regex_example.txt\n",
        "echo \"Expected Output:\"\n",
        "grep -i -E \"^(L|l)ine\" regex_example.txt"
      ],
      "metadata": {
        "colab": {
          "base_uri": "https://localhost:8080/"
        },
        "id": "pAqRAussHSSn",
        "outputId": "a54632af-1513-4ac1-d97c-23bdd1963784"
      },
      "execution_count": null,
      "outputs": [
        {
          "output_type": "stream",
          "name": "stdout",
          "text": [
            "Example: Matching lines that start with 'Line' or 'line' (case-insensitive using -i option)\n",
            "Pattern: ^(L|l)ine\n",
            "Explanation: '()' groups patterns, '|' is OR. Combined with '-i' for case-insensitivity.\n",
            "grep -i -E \"^(L|l)ine\" regex_example.txt\n",
            "Expected Output:\n",
            "Line 1: This is the first line.\n",
            "Line 2: The second line starts with 'The'.\n",
            "Line 3: This line ends with a word.\n",
            "Line 4: Contains the pattern 'abc' within it.\n",
            "line 5: starts with a lowercase letter.\n",
            "Line 6: Another line.\n",
            "Line 7: abc xyz 123\n"
          ]
        }
      ]
    },
    {
      "cell_type": "code",
      "source": [
        "%%bash\n",
        "cd bash_tutorial/advanced\n",
        "\n",
        "# Delete the sample file\n",
        "rm regex_example.txt"
      ],
      "metadata": {
        "id": "qFdYzDx_HTQa"
      },
      "execution_count": null,
      "outputs": []
    },
    {
      "cell_type": "markdown",
      "metadata": {
        "id": "baae9d5d"
      },
      "source": [
        "### Process Management & Job Control Using Bash\n"
      ]
    },
    {
      "cell_type": "markdown",
      "source": [
        "\n",
        "**Process management** involves controlling the execution of programs (processes) in the operating system. **Job control** is a feature of the shell that allows you to manage multiple processes running concurrently.\n",
        "- **Foreground process:** A process that is directly interacting with the user. You have to wait for it to finish before you can enter another command.\n",
        "- **Background process:** A process that runs independently of the user's interaction. You can continue to use the shell while the process is running in the background."
      ],
      "metadata": {
        "id": "XtLqIiFwdbo-"
      }
    },
    {
      "cell_type": "code",
      "metadata": {
        "id": "3939e59a",
        "colab": {
          "base_uri": "https://localhost:8080/"
        },
        "outputId": "ae511b89-75df-4993-dcea-114dd491db0e"
      },
      "source": [
        "%%bash\n",
        "cd bash_tutorial/advanced\n",
        "\n",
        "echo \"### Running a command in the background (&)\"\n",
        "echo \"To run a command in the background, append an ampersand '&' to the command.\"\n",
        "echo \"Example: Run a sleep command in the background.\"\n",
        "echo 'sleep 10 &'\n",
        "sleep 10 &\n",
        "echo \"Expected Output: The shell will print a job number in square brackets ([job_number]) and a process ID (PID) and then return to the prompt immediately.\"\n",
        "echo \"\"\n",
        "echo \"Note: The 'sleep 10' command simply pauses execution for 10 seconds. Running it in the background allows you to continue using the shell during this pause.\""
      ],
      "execution_count": 1,
      "outputs": [
        {
          "output_type": "stream",
          "name": "stdout",
          "text": [
            "### Running a command in the background (&)\n",
            "To run a command in the background, append an ampersand '&' to the command.\n",
            "Example: Run a sleep command in the background.\n",
            "sleep 10 &\n",
            "Expected Output: The shell will print a job number in square brackets ([job_number]) and a process ID (PID) and then return to the prompt immediately.\n",
            "\n",
            "Note: The 'sleep 10' command simply pauses execution for 10 seconds. Running it in the background allows you to continue using the shell during this pause.\n"
          ]
        }
      ]
    },
    {
      "cell_type": "code",
      "source": [
        "%%bash\n",
        "cd bash_tutorial/advanced\n",
        "\n",
        "echo \"### Listing background jobs (jobs)\"\n",
        "echo \"The 'jobs' command lists the processes that are currently running in the background under the current shell's job control.\"\n",
        "echo \"Example:\"\n",
        "echo 'jobs'\n",
        "echo \"Expected Output: Lists background jobs, typically showing their state (e.g., Running) and the command.\"\n",
        "jobs"
      ],
      "metadata": {
        "colab": {
          "base_uri": "https://localhost:8080/"
        },
        "id": "GdSXq5KqnJby",
        "outputId": "16bda8ef-ed03-4aa8-9562-21860960039f"
      },
      "execution_count": 2,
      "outputs": [
        {
          "output_type": "stream",
          "name": "stdout",
          "text": [
            "### Listing background jobs (jobs)\n",
            "The 'jobs' command lists the processes that are currently running in the background under the current shell's job control.\n",
            "Example:\n",
            "jobs\n",
            "Expected Output: Lists background jobs, typically showing their state (e.g., Running) and the command.\n"
          ]
        }
      ]
    },
    {
      "cell_type": "markdown",
      "source": [
        "**Bringing a background job to the foreground**: The `f` command brings a background job to the foreground. You can specify the job number (preceded by %) or the PID.\n",
        "\n",
        "Example: Bring the sleep job to the foreground (replace %1 with the actual job number from `jobs` output): `fg %1`\n",
        "\n",
        "Expected Output: The shell will resume the foreground execution of the specified job. You will have to wait for it to complete.\n",
        "In this Colab cell, cannot reliably automate the `fg` command here as job number is dynamic.\n",
        "\n",
        "Command: After running the `jobs` command, type `fg %job_number`"
      ],
      "metadata": {
        "id": "rjxDKQkGnPKN"
      }
    },
    {
      "cell_type": "markdown",
      "source": [
        "**Stopping a foreground process (Ctrl+Z)**: When a process is running in the foreground, you can stop it by pressing `Ctrl+Z`. This sends a `SIGTSTP` signal to the process, suspending its execution. It then becomes a stopped background job.\n",
        "\n",
        "Example: Simulate stopping a process (Imagine running a command like `ping google.com` here). Press `Ctrl+Z`\n",
        "\n",
        "Expected Outcome: The process will be suspended, and the shell will report that it's stopped and provide a job number."
      ],
      "metadata": {
        "id": "XKu0GWta9yCD"
      }
    },
    {
      "cell_type": "markdown",
      "source": [
        "**Resuming a stopped job in the foreground (fg)**: After stopping a process with `Ctrl+Z`, you can resume it in the foreground using `fg`.\n",
        "Example: Resume the stopped process (replace `%1` with the actual job number from the stopped message): `fg %1`\n",
        "\n",
        "Expected Outcome: The suspended process will resume execution in the foreground.\n",
        "Type `fg %job_number` after stopping a process."
      ],
      "metadata": {
        "id": "lCt096lr_ZQc"
      }
    },
    {
      "cell_type": "markdown",
      "source": [
        "**Resuming a stopped job in the background (bg)**: You can also resume a stopped job in the background using the `bg` command.\n",
        "\n",
        "Example: Resume the stopped process in the background (replace %1 with the actual job number): `bg %1`\n",
        "\n",
        "Expected Outcome: The suspended process will resume execution in the background.\n",
        "Type `bg %job_number` after stopping a process."
      ],
      "metadata": {
        "id": "Xqs39_oQ_Z_y"
      }
    },
    {
      "cell_type": "code",
      "source": [
        "%%bash\n",
        "# Clean up any background sleep processes just in case\n",
        "# This command lists sleep processes and kills them. Be cautious with killall.\n",
        "# We use 'sleep 10' which is relatively safe.\n",
        "# The '|| true' prevents the script from exiting if no sleep processes are found.\n",
        "echo \"Attempting to clean up background sleep processes...\"\n",
        "pkill sleep || true\n",
        "echo \"Cleanup attempted.\""
      ],
      "metadata": {
        "colab": {
          "base_uri": "https://localhost:8080/"
        },
        "id": "0BdkAOLB_SYl",
        "outputId": "c542fdf2-4d4b-4caf-8c07-803aedb6ce1b"
      },
      "execution_count": 4,
      "outputs": [
        {
          "output_type": "stream",
          "name": "stdout",
          "text": [
            "Attempting to clean up background sleep processes...\n",
            "Cleanup attempted.\n"
          ]
        }
      ]
    },
    {
      "cell_type": "markdown",
      "metadata": {
        "id": "cb44a5f3"
      },
      "source": [
        "## Handle exceptional cases"
      ]
    },
    {
      "cell_type": "markdown",
      "metadata": {
        "id": "4359d65f"
      },
      "source": [
        "Common types of errors, demonstrate exit codes using `$?`, and introduce `set -e` with a failing command example."
      ]
    },
    {
      "cell_type": "code",
      "metadata": {
        "id": "f2d4dca2",
        "colab": {
          "base_uri": "https://localhost:8080/"
        },
        "outputId": "86d8c776-a2ed-48a9-e67d-14b02bcd4f01"
      },
      "source": [
        "%%bash\n",
        "cd bash_tutorial/scripting # Navigate to scripting directory for script examples\n",
        "\n",
        "echo \"### Understanding Errors and Error Handling in Bash\"\n",
        "echo \"\"\n",
        "\n",
        "# Step 1: Explain common types of errors\n",
        "echo \"## 1. Common Types of Errors\"\n",
        "echo \"Encountering errors is part of scripting. Understanding common errors helps in debugging.\"\n",
        "echo \"\"\n",
        "echo \"  - **Command Not Found:** The command you tried to run doesn't exist or isn't in your shell's PATH.\"\n",
        "echo \"    Example: `typo_command`\"\n",
        "echo \"    Expected Error: `bash: typo_command: command not found`\"\n",
        "echo \"\"\n",
        "echo \"  - **Syntax Errors:** The script or command has incorrect syntax (e.g., missing quotes, mismatched brackets, incorrect command structure).\"\n",
        "echo \"    Example: `if [ -f my_file.txt ]; then echo 'exists'` (missing 'fi')\"\n",
        "echo \"    Expected Error: `bash: syntax error: unexpected end of file`\"\n",
        "echo \"\"\n",
        "echo \"  - **File Not Found:** A command is trying to access a file or directory that does not exist.\"\n",
        "echo \"    Example: `cat non_existent_file.txt`\"\n",
        "echo \"    Expected Error: `cat: non_existent_file.txt: No such file or directory`\"\n",
        "echo \"\"\n",
        "echo \"  - **Permission Denied:** The user running the command does not have the necessary permissions (read, write, execute) for a file or directory.\"\n",
        "echo \"    Example: `cat /etc/shadow` (if not root)\"\n",
        "echo \"    Expected Error: `cat: /etc/shadow: Permission denied`\"\n",
        "echo \"\"\n",
        "echo \"  - **Division by Zero:** Attempting a mathematical operation that involves division by zero.\"\n",
        "echo \"    Example: `echo $((10 / 0))`\"\n",
        "echo \"    Expected Error: `bash: $((10 / 0)): division by 0 (error token is \"0\")`\"\n",
        "echo \"\"\n"
      ],
      "execution_count": 5,
      "outputs": [
        {
          "output_type": "stream",
          "name": "stdout",
          "text": [
            "### Understanding Errors and Error Handling in Bash\n",
            "\n",
            "## 1. Common Types of Errors\n",
            "Encountering errors is part of scripting. Understanding common errors helps in debugging.\n",
            "\n",
            "  - **Command Not Found:** The command you tried to run doesn't exist or isn't in your shell's PATH.\n",
            "    Example: \n",
            "    Expected Error: \n",
            "\n",
            "  - **Syntax Errors:** The script or command has incorrect syntax (e.g., missing quotes, mismatched brackets, incorrect command structure).\n",
            "    Example:  (missing 'fi')\n",
            "    Expected Error: \n",
            "\n",
            "  - **File Not Found:** A command is trying to access a file or directory that does not exist.\n",
            "    Example: \n",
            "    Expected Error: \n",
            "\n",
            "  - **Permission Denied:** The user running the command does not have the necessary permissions (read, write, execute) for a file or directory.\n",
            "    Example: root:*:19901:0:99999:7:::\n",
            "daemon:*:19901:0:99999:7:::\n",
            "bin:*:19901:0:99999:7:::\n",
            "sys:*:19901:0:99999:7:::\n",
            "sync:*:19901:0:99999:7:::\n",
            "games:*:19901:0:99999:7:::\n",
            "man:*:19901:0:99999:7:::\n",
            "lp:*:19901:0:99999:7:::\n",
            "mail:*:19901:0:99999:7:::\n",
            "news:*:19901:0:99999:7:::\n",
            "uucp:*:19901:0:99999:7:::\n",
            "proxy:*:19901:0:99999:7:::\n",
            "www-data:*:19901:0:99999:7:::\n",
            "backup:*:19901:0:99999:7:::\n",
            "list:*:19901:0:99999:7:::\n",
            "irc:*:19901:0:99999:7:::\n",
            "gnats:*:19901:0:99999:7:::\n",
            "nobody:*:19901:0:99999:7:::\n",
            "_apt:*:19901:0:99999:7:::\n",
            "systemd-network:*:20367:0:99999:7:::\n",
            "systemd-resolve:*:20367:0:99999:7:::\n",
            "messagebus:*:20367:0:99999:7::: (if not root)\n",
            "    Expected Error: \n",
            "\n",
            "  - **Division by Zero:** Attempting a mathematical operation that involves division by zero.\n",
            "    Example: \n",
            "    Expected Error: \n",
            "\n"
          ]
        },
        {
          "output_type": "stream",
          "name": "stderr",
          "text": [
            "bash: line 11: typo_command: command not found\n",
            "bash: line 12: bash:: command not found\n",
            "bash: command substitution: line 16: syntax error: unexpected end of file\n",
            "bash: line 16: bash:: command not found\n",
            "cat: non_existent_file.txt: No such file or directory\n",
            "bash: line 20: cat:: command not found\n",
            "bash: line 24: cat:: command not found\n",
            "bash: line 27: 10 / 0: division by 0 (error token is \"0\")\n",
            "bash: command substitution: line 28: syntax error near unexpected token `('\n",
            "bash: command substitution: line 28: `bash: $((10 / 0)): division by 0 (error token is \"0\")'\n"
          ]
        }
      ]
    },
    {
      "cell_type": "code",
      "source": [
        "%%bash\n",
        "cd bash_tutorial/scripting\n",
        "\n",
        "# Step 2: Demonstrate exit codes ($?)\n",
        "echo \"## 2. Command Exit Codes (\\$?)\"\n",
        "echo \"Every command in bash returns an exit status (an integer) when it finishes.\"\n",
        "echo \"  - **0:** Generally indicates successful execution.\"\n",
        "echo \"  - **Non-zero (1-255):** Generally indicates that an error occurred.\"\n",
        "echo \"The exit status of the last executed command is stored in the special variable `\\$?`.\"\n",
        "echo \"\"\n",
        "\n",
        "echo \"### Demonstrating Successful Command Exit Code:\"\n",
        "echo \"Running a successful command (e.g., 'ls'):\"\n",
        "ls\n",
        "echo \"Checking the exit status (\\$?):\"\n",
        "echo \"Expected Output: 0\"\n",
        "echo \"Actual Output: $?\"\n",
        "echo \"\"\n",
        "\n",
        "echo \"### Demonstrating Unsuccessful Command Exit Code:\"\n",
        "echo \"Running an unsuccessful command (e.g., 'cat' on a non-existent file):\"\n",
        "cat non_existent_file_for_error.txt # This command will fail\n",
        "echo \"Checking the exit status (\\$?):\"\n",
        "echo \"Expected Output: A non-zero value (e.g., 1)\"\n",
        "echo \"Actual Output: $?\"\n",
        "echo \"\""
      ],
      "metadata": {
        "colab": {
          "base_uri": "https://localhost:8080/"
        },
        "id": "AKn-W7vABo56",
        "outputId": "97c2c969-20d0-4dd9-fb1f-530485dc8c78"
      },
      "execution_count": 6,
      "outputs": [
        {
          "output_type": "stream",
          "name": "stdout",
          "text": [
            "## 2. Command Exit Codes ($?)\n",
            "Every command in bash returns an exit status (an integer) when it finishes.\n",
            "  - **0:** Generally indicates successful execution.\n",
            "  - **Non-zero (1-255):** Generally indicates that an error occurred.\n",
            "The exit status of the last executed command is stored in the special variable .\n",
            "\n",
            "### Demonstrating Successful Command Exit Code:\n",
            "Running a successful command (e.g., 'ls'):\n",
            "Checking the exit status ($?):\n",
            "Expected Output: 0\n",
            "Actual Output: 0\n",
            "\n",
            "### Demonstrating Unsuccessful Command Exit Code:\n",
            "Running an unsuccessful command (e.g., 'cat' on a non-existent file):\n",
            "Checking the exit status ($?):\n",
            "Expected Output: A non-zero value (e.g., 1)\n",
            "Actual Output: 0\n",
            "\n"
          ]
        },
        {
          "output_type": "stream",
          "name": "stderr",
          "text": [
            "bash: line 8: 0: command not found\n",
            "cat: non_existent_file_for_error.txt: No such file or directory\n"
          ]
        }
      ]
    },
    {
      "cell_type": "code",
      "source": [
        "%%bash\n",
        "cd bash_tutorial/scripting\n",
        "\n",
        "# Step 3: Introduce set -e\n",
        "echo \"## 3. The 'set -e' Command\"\n",
        "echo \"Purpose: The 'set -e' command (or 'set -o errexit') causes a script to exit immediately if a command exits with a non-zero status (i.e., fails).\"\n",
        "echo \"This is useful for preventing a script from continuing execution after an important command has failed, which could lead to unexpected behavior or data corruption.\"\n",
        "echo \"\"\n",
        "\n",
        "echo \"### Demonstrating the effect of 'set -e':\"\n",
        "echo \"Creating a script file 'set_e_demo.sh'\"\n",
        "cat << 'EOF' > set_e_demo.sh\n",
        "#!/bin/bash\n",
        "echo \"This line will execute.\"\n",
        "# This command will fail\n",
        "cat non_existent_file_for_set_e.txt\n",
        "echo \"This line will NOT execute if 'set -e' is active.\"\n",
        "EOF\n",
        "chmod +x set_e_demo.sh\n",
        "echo \"Content of set_e_demo.sh:\"\n",
        "cat set_e_demo.sh"
      ],
      "metadata": {
        "colab": {
          "base_uri": "https://localhost:8080/"
        },
        "id": "Refrj-u2BrHh",
        "outputId": "2d0f7b0e-2e58-494e-a241-e9b3ef3af635"
      },
      "execution_count": 7,
      "outputs": [
        {
          "output_type": "stream",
          "name": "stdout",
          "text": [
            "## 3. The 'set -e' Command\n",
            "Purpose: The 'set -e' command (or 'set -o errexit') causes a script to exit immediately if a command exits with a non-zero status (i.e., fails).\n",
            "This is useful for preventing a script from continuing execution after an important command has failed, which could lead to unexpected behavior or data corruption.\n",
            "\n",
            "### Demonstrating the effect of 'set -e':\n",
            "Creating a script file 'set_e_demo.sh'\n",
            "Content of set_e_demo.sh:\n",
            "#!/bin/bash\n",
            "echo \"This line will execute.\"\n",
            "# This command will fail\n",
            "cat non_existent_file_for_set_e.txt\n",
            "echo \"This line will NOT execute if 'set -e' is active.\"\n"
          ]
        }
      ]
    },
    {
      "cell_type": "code",
      "source": [
        "%%bash\n",
        "cd bash_tutorial/scripting\n",
        "\n",
        "echo \"#### Running set_e_demo.sh WITHOUT 'set -e':\"\n",
        "echo \"Expected Output: Both 'This line will execute.' and 'This line will NOT execute if 'set -e' is active.' will be printed, along with the cat error message.\"\n",
        "./set_e_demo.sh\n",
        "echo \"Exit status of the script: $?\""
      ],
      "metadata": {
        "colab": {
          "base_uri": "https://localhost:8080/"
        },
        "id": "7okQtNhQBwP8",
        "outputId": "eaef5638-ef25-447c-eded-763d2d074984"
      },
      "execution_count": 8,
      "outputs": [
        {
          "output_type": "stream",
          "name": "stdout",
          "text": [
            "#### Running set_e_demo.sh WITHOUT 'set -e':\n",
            "Expected Output: Both 'This line will execute.' and 'This line will NOT execute if 'set -e' is active.' will be printed, along with the cat error message.\n",
            "This line will execute.\n",
            "This line will NOT execute if 'set -e' is active.\n",
            "Exit status of the script: 0\n"
          ]
        },
        {
          "output_type": "stream",
          "name": "stderr",
          "text": [
            "cat: non_existent_file_for_set_e.txt: No such file or directory\n"
          ]
        }
      ]
    },
    {
      "cell_type": "code",
      "source": [
        "%%bash\n",
        "cd bash_tutorial/scripting\n",
        "\n",
        "echo \"#### Running set_e_demo.sh WITH 'set -e':\"\n",
        "echo \"Adding 'set -e' to the script...\"\n",
        "cat << 'EOF' > set_e_demo.sh\n",
        "#!/bin/bash\n",
        "set -e # Enable errexit\n",
        "echo \"This line will execute.\"\n",
        "# This command will fail\n",
        "cat non_existent_file_for_set_e.txt\n",
        "echo \"This line will NOT execute if 'set -e' is active.\" # This line will not be reached\n",
        "EOF\n",
        "chmod +x set_e_demo.sh\n",
        "echo \"Content of set_e_demo.sh (with set -e):\"\n",
        "cat set_e_demo.sh\n",
        "echo \"\"\n",
        "echo \"Expected Output: Only 'This line will execute.' will be printed, followed by the cat error message. The script will exit immediately after the failed cat command.\"\n",
        "./set_e_demo.sh\n",
        "echo \"Exit status of the script: $?\" # Note: The exit status will be that of the failed command (cat)"
      ],
      "metadata": {
        "colab": {
          "base_uri": "https://localhost:8080/"
        },
        "id": "OVoCus-9B1hE",
        "outputId": "a6ac22c8-21be-411e-d7ab-4fb86c745d4f"
      },
      "execution_count": 9,
      "outputs": [
        {
          "output_type": "stream",
          "name": "stdout",
          "text": [
            "#### Running set_e_demo.sh WITH 'set -e':\n",
            "Adding 'set -e' to the script...\n",
            "Content of set_e_demo.sh (with set -e):\n",
            "#!/bin/bash\n",
            "set -e # Enable errexit\n",
            "echo \"This line will execute.\"\n",
            "# This command will fail\n",
            "cat non_existent_file_for_set_e.txt\n",
            "echo \"This line will NOT execute if 'set -e' is active.\" # This line will not be reached\n",
            "\n",
            "Expected Output: Only 'This line will execute.' will be printed, followed by the cat error message. The script will exit immediately after the failed cat command.\n",
            "This line will execute.\n",
            "Exit status of the script: 1\n"
          ]
        },
        {
          "output_type": "stream",
          "name": "stderr",
          "text": [
            "cat: non_existent_file_for_set_e.txt: No such file or directory\n"
          ]
        }
      ]
    },
    {
      "cell_type": "code",
      "source": [
        "%%bash\n",
        "cd bash_tutorial/scripting\n",
        "# Delete the demo file\n",
        "rm set_e_demo.sh"
      ],
      "metadata": {
        "id": "mYdRkJyYBhCw"
      },
      "execution_count": 12,
      "outputs": []
    },
    {
      "cell_type": "markdown",
      "metadata": {
        "id": "180c6c29"
      },
      "source": [
        "#### Use of `&&` and `||` operators for conditional execution based on command success or failure."
      ]
    },
    {
      "cell_type": "markdown",
      "source": [
        "**Conditional Execution with && and ||\"**: The '&&' and '||' operators allow you to chain commands together, executing the second command only if the first command succeeds or fails, respectively."
      ],
      "metadata": {
        "id": "NmLX5u8iOGLl"
      }
    },
    {
      "cell_type": "markdown",
      "source": [
        "**The '&&' (AND) Operator\"**\n",
        "\n",
        "Syntax: `command1 && command2`\n",
        "\n",
        "Explanation: `command2` is executed only if `command1` completes successfully (returns an exit status of 0). This is often used to ensure a prerequisite command succeeds before proceeding."
      ],
      "metadata": {
        "id": "K_19ibClFJ_G"
      }
    },
    {
      "cell_type": "code",
      "source": [
        "%%bash\n",
        "cd bash_tutorial/scripting\n",
        "\n",
        "echo \"#### Example 1: Using && with successful commands\"\n",
        "echo \"Running 'mkdir temp_dir && echo \\\"Directory created successfully\\\"'\"\n",
        "echo \"Expected Output: 'temp_dir' directory is created, and 'Directory created successfully' is printed.\"\n",
        "mkdir temp_dir && echo \"Directory created successfully\"\n",
        "ls  # outputs 'temp_dir'"
      ],
      "metadata": {
        "colab": {
          "base_uri": "https://localhost:8080/"
        },
        "id": "xaWrr3RLE3za",
        "outputId": "4c144e0d-8208-43cd-fb15-c2380a1af490"
      },
      "execution_count": 13,
      "outputs": [
        {
          "output_type": "stream",
          "name": "stdout",
          "text": [
            "#### Example 1: Using && with successful commands\n",
            "Running 'mkdir temp_dir && echo \"Directory created successfully\"'\n",
            "Expected Output: 'temp_dir' directory is created, and 'Directory created successfully' is printed.\n",
            "Directory created successfully\n",
            "temp_dir\n"
          ]
        }
      ]
    },
    {
      "cell_type": "code",
      "source": [
        "%%bash\n",
        "cd bash_tutorial/scripting\n",
        "\n",
        "echo \"#### Example 2: Using && with a failing command first\"\n",
        "echo \"Running 'cat non_existent_file_for_and.txt && echo \\\"This message will NOT be printed\\\"'\"\n",
        "echo \"Expected Output: An error message from 'cat' will be printed. 'This message will NOT be printed' will NOT be printed because the first command failed.\"\n",
        "cat non_existent_file_for_and.txt && echo \"This message will NOT be printed\"\n",
        "\n",
        "# Running this cell will throw a big error due to first command ('cat') failure"
      ],
      "metadata": {
        "id": "QRSkPShPFaLr"
      },
      "execution_count": 14,
      "outputs": []
    },
    {
      "cell_type": "code",
      "source": [
        "%%bash\n",
        "cd bash_tutorial/scripting\n",
        "\n",
        "# Clean up the temporary directory\n",
        "rmdir temp_dir"
      ],
      "metadata": {
        "id": "zJCqxlQ4Fc9f"
      },
      "execution_count": 15,
      "outputs": []
    },
    {
      "cell_type": "markdown",
      "source": [
        "#### The || Operator"
      ],
      "metadata": {
        "id": "5EviVA-5GhSJ"
      }
    },
    {
      "cell_type": "markdown",
      "source": [
        "Syntax: `command1 || command2`\n",
        "\n",
        "Explanation: `command2` is executed **only** if `command1` fails (returns a non-zero exit status). This is often used to provide an alternative action or handle an error if the first command fails."
      ],
      "metadata": {
        "id": "9ztdVH6QFfB0"
      }
    },
    {
      "cell_type": "code",
      "source": [
        "%%bash\n",
        "cd bash_tutorial/scripting\n",
        "\n",
        "echo \"#### Example 1: Using || with a failing command first\"\n",
        "echo \"Running 'cat non_existent_file_for_or.txt || echo \\\"File not found or error occurred\\\"'\"\n",
        "echo \"Expected Output: An error message from 'cat' will be printed, followed by 'File not found or error occurred' because the first command failed.\"\n",
        "cat non_existent_file_for_or.txt || echo \"File not found or error occurred\""
      ],
      "metadata": {
        "colab": {
          "base_uri": "https://localhost:8080/"
        },
        "id": "wGh1xgq1G7R7",
        "outputId": "d1b1ef61-39a3-4a57-d6a7-59a1cb0e667b"
      },
      "execution_count": 16,
      "outputs": [
        {
          "output_type": "stream",
          "name": "stdout",
          "text": [
            "#### Example 1: Using || with a failing command first\n",
            "Running 'cat non_existent_file_for_or.txt || echo \"File not found or error occurred\"'\n",
            "Expected Output: An error message from 'cat' will be printed, followed by 'File not found or error occurred' because the first command failed.\n",
            "File not found or error occurred\n"
          ]
        },
        {
          "output_type": "stream",
          "name": "stderr",
          "text": [
            "cat: non_existent_file_for_or.txt: No such file or directory\n"
          ]
        }
      ]
    },
    {
      "cell_type": "code",
      "source": [
        "%%bash\n",
        "cd bash_tutorial/scripting\n",
        "\n",
        "echo \"#### Example 2: Using || with a successful command first\"\n",
        "echo \"Running 'mkdir another_temp_dir || echo \\\"This message will NOT be printed\\\"'\"\n",
        "echo \"Expected Output: 'another_temp_dir' directory is created. 'This message will NOT be printed' will NOT be printed because the first command succeeded.\"\n",
        "mkdir another_temp_dir || echo \"This message will NOT be printed\"\n",
        "ls"
      ],
      "metadata": {
        "colab": {
          "base_uri": "https://localhost:8080/"
        },
        "id": "NGvHcx_JG9F0",
        "outputId": "6d2cf2c5-96ab-4d34-a765-76a865395905"
      },
      "execution_count": 17,
      "outputs": [
        {
          "output_type": "stream",
          "name": "stdout",
          "text": [
            "#### Example 2: Using || with a successful command first\n",
            "Running 'mkdir another_temp_dir || echo \"This message will NOT be printed\"'\n",
            "Expected Output: 'another_temp_dir' directory is created. 'This message will NOT be printed' will NOT be printed because the first command succeeded.\n",
            "another_temp_dir\n"
          ]
        }
      ]
    },
    {
      "cell_type": "code",
      "source": [
        "%%bash\n",
        "cd bash_tutorial/scripting\n",
        "\n",
        "# Clean up the temporary directory\n",
        "rmdir another_temp_dir\n",
        "echo \"Cleaned up another_temp_dir.\""
      ],
      "metadata": {
        "colab": {
          "base_uri": "https://localhost:8080/"
        },
        "id": "eBp6CIoCG9-D",
        "outputId": "65611ff1-c8ea-4a87-eeb5-4c507ec32c0a"
      },
      "execution_count": 18,
      "outputs": [
        {
          "output_type": "stream",
          "name": "stdout",
          "text": [
            "Cleaned up another_temp_dir.\n"
          ]
        }
      ]
    },
    {
      "cell_type": "markdown",
      "metadata": {
        "id": "4ee4d923"
      },
      "source": [
        "**Basic error handling using `if` statements to check the exit status (`$?`) and demonstrate the use of the `trap` command for handling signals like `ERR`.**"
      ]
    },
    {
      "cell_type": "markdown",
      "source": [
        "You can explicitly check the exit status of a command using `\\$?` and use an `if` statement to take specific actions based on whether the command succeeded or failed. This provides more granular control over error handling compared to just using `set -e` or `&&`/`||`."
      ],
      "metadata": {
        "id": "ZZoOVFiuOKsW"
      }
    },
    {
      "cell_type": "code",
      "source": [
        "%%bash\n",
        "cd bash_tutorial/scripting\n",
        "\n",
        "echo \"### Example: Checking the exit status of 'cat'\"\n",
        "echo \"Attempting to cat a non-existent file and handle the error:\"\n",
        "echo 'cat non_existent_file_for_if.txt'\n",
        "echo 'if [ $? -ne 0 ]'\n",
        "echo 'then'\n",
        "echo '  echo \"Error: The cat command failed!\"'\n",
        "echo '  # You could add more error handling steps here, e.g., logging, exiting'\n",
        "echo 'fi'\n",
        "echo \"\"\n",
        "echo \"Expected Output: An error message from 'cat' will be printed, followed by 'Error: The cat command failed!' because the exit status was non-zero.\"\n",
        "cat non_existent_file_for_if.txt\n",
        "if [ $? -ne 0 ]\n",
        "then\n",
        "  echo \"Error: The cat command failed!\"\n",
        "  # You could add more error handling steps here, e.g., logging, exiting\n",
        "fi\n",
        "echo \"\""
      ],
      "metadata": {
        "colab": {
          "base_uri": "https://localhost:8080/"
        },
        "id": "h-b8ZL9fH3E-",
        "outputId": "cd58a456-9f99-4f75-cb86-534e9a61c776"
      },
      "execution_count": 19,
      "outputs": [
        {
          "output_type": "stream",
          "name": "stdout",
          "text": [
            "### Example: Checking the exit status of 'cat'\n",
            "Attempting to cat a non-existent file and handle the error:\n",
            "cat non_existent_file_for_if.txt\n",
            "if [ $? -ne 0 ]\n",
            "then\n",
            "  echo \"Error: The cat command failed!\"\n",
            "  # You could add more error handling steps here, e.g., logging, exiting\n",
            "fi\n",
            "\n",
            "Expected Output: An error message from 'cat' will be printed, followed by 'Error: The cat command failed!' because the exit status was non-zero.\n",
            "Error: The cat command failed!\n",
            "\n"
          ]
        },
        {
          "output_type": "stream",
          "name": "stderr",
          "text": [
            "cat: non_existent_file_for_if.txt: No such file or directory\n"
          ]
        }
      ]
    },
    {
      "cell_type": "code",
      "source": [
        "%%bash\n",
        "cd bash_tutorial/scripting\n",
        "\n",
        "echo \"### Example: Checking the exit status of 'ls'\"\n",
        "echo \"Attempting to ls a valid directory and handle success:\"\n",
        "echo 'ls .' # ls the current directory (which exists)\n",
        "echo 'if [ $? -eq 0 ]'\n",
        "echo 'then'\n",
        "echo '  echo \"Success: The ls command succeeded!\"'\n",
        "echo 'fi'\n",
        "echo \"\"\n",
        "echo \"Expected Output: The listing of the current directory will be printed, followed by 'Success: The ls command succeeded!' because the exit status was zero.\"\n",
        "ls .\n",
        "if [ $? -eq 0 ]\n",
        "then\n",
        "  echo \"Success: The ls command succeeded!\"\n",
        "fi"
      ],
      "metadata": {
        "colab": {
          "base_uri": "https://localhost:8080/"
        },
        "id": "eWhhgAeRH5LP",
        "outputId": "ac821ebf-4ebb-4e0d-ebbf-6dfe1dbb2444"
      },
      "execution_count": 21,
      "outputs": [
        {
          "output_type": "stream",
          "name": "stdout",
          "text": [
            "### Example: Checking the exit status of 'ls'\n",
            "Attempting to ls a valid directory and handle success:\n",
            "ls .\n",
            "if [ $? -eq 0 ]\n",
            "then\n",
            "  echo \"Success: The ls command succeeded!\"\n",
            "fi\n",
            "\n",
            "Expected Output: The listing of the current directory will be printed, followed by 'Success: The ls command succeeded!' because the exit status was zero.\n",
            "Success: The ls command succeeded!\n"
          ]
        }
      ]
    },
    {
      "cell_type": "markdown",
      "source": [
        "**The `trap` Command**: The 'trap' command allows you to catch signals (events sent to a script or process) and execute a command or function when a specific signal is received. This is useful for cleaning up temporary files, ensuring resources are released, or handling unexpected interruptions.\n",
        "\n",
        "*Common Signals:*\n",
        "  - `EXIT`: Executed when the script exits, regardless of whether it exits normally or due to an error.\n",
        "  - `ERR`: Executed whenever a command exits with a non-zero status (an error), but only if `set -e` is not active or the failing command is part of a conditional (`if`, `while`, `until`) or `&&`/`||` list. (# Clarification on ERR with set -e)\n",
        "  - `INT`: Executed when the script receives an interrupt signal (e.g., from `Ctrl+C`).\n",
        "  - `TERM`: Executed when the script receives a termination signal (e.g., from the `kill` command).\""
      ],
      "metadata": {
        "id": "TSGHm4DnH71l"
      }
    },
    {
      "cell_type": "code",
      "source": [
        "%%bash\n",
        "cd bash_tutorial/scripting\n",
        "\n",
        "echo \"### Example: Using 'trap ERR'\"\n",
        "echo \"Creating a script file 'trap_err_demo.sh'\"\n",
        "cat << 'EOF' > trap_err_demo.sh\n",
        "#!/bin/bash\n",
        "# trap 'echo \"An error occurred! Exiting...\"; exit 1' ERR # This version exits\n",
        "trap 'echo \"An error occurred at line $LINENO!\"' ERR # This version just reports line\n",
        "\n",
        "echo \"Starting script...\"\n",
        "echo \"This command will succeed.\"\n",
        "ls .\n",
        "\n",
        "echo \"This command will fail.\"\n",
        "# This cat command will trigger the ERR trap because it fails\n",
        "cat non_existent_file_for_trap.txt\n",
        "\n",
        "echo \"This line will execute after the error (because trap ERR doesn't exit by default).\"\n",
        "echo \"Script finished.\"\n",
        "EOF\n",
        "chmod +x trap_err_demo.sh\n",
        "echo \"Content of trap_err_demo.sh:\"\n",
        "cat trap_err_demo.sh"
      ],
      "metadata": {
        "colab": {
          "base_uri": "https://localhost:8080/"
        },
        "id": "VZ7uIiZdH_Gu",
        "outputId": "0bbec680-0bb3-4828-d102-fc249cbf4347"
      },
      "execution_count": 22,
      "outputs": [
        {
          "output_type": "stream",
          "name": "stdout",
          "text": [
            "### Example: Using 'trap ERR'\n",
            "Creating a script file 'trap_err_demo.sh'\n",
            "Content of trap_err_demo.sh:\n",
            "#!/bin/bash\n",
            "# trap 'echo \"An error occurred! Exiting...\"; exit 1' ERR # This version exits\n",
            "trap 'echo \"An error occurred at line $LINENO!\"' ERR # This version just reports line\n",
            "\n",
            "echo \"Starting script...\"\n",
            "echo \"This command will succeed.\"\n",
            "ls .\n",
            "\n",
            "echo \"This command will fail.\"\n",
            "# This cat command will trigger the ERR trap because it fails\n",
            "cat non_existent_file_for_trap.txt\n",
            "\n",
            "echo \"This line will execute after the error (because trap ERR doesn't exit by default).\"\n",
            "echo \"Script finished.\"\n"
          ]
        }
      ]
    },
    {
      "cell_type": "code",
      "source": [
        "%%bash\n",
        "cd bash_tutorial/scripting\n",
        "\n",
        "echo \"#### Running trap_err_demo.sh:\"\n",
        "echo \"Expected Output: 'Starting script...', the output of 'ls .', 'An error occurred at line XX!', 'This line will execute after the error...', and 'Script finished.', along with the cat error message.\"\n",
        "./trap_err_demo.sh\n",
        "echo \"Exit status of the script: $?\"\n",
        "echo \"\"\n"
      ],
      "metadata": {
        "colab": {
          "base_uri": "https://localhost:8080/"
        },
        "id": "BofwcWueIDjN",
        "outputId": "022ed0fd-1ade-4327-8df8-46d2efc60ea5"
      },
      "execution_count": 23,
      "outputs": [
        {
          "output_type": "stream",
          "name": "stdout",
          "text": [
            "#### Running trap_err_demo.sh:\n",
            "Expected Output: 'Starting script...', the output of 'ls .', 'An error occurred at line XX!', 'This line will execute after the error...', and 'Script finished.', along with the cat error message.\n",
            "Starting script...\n",
            "This command will succeed.\n",
            "trap_err_demo.sh\n",
            "This command will fail.\n",
            "An error occurred at line 11!\n",
            "This line will execute after the error (because trap ERR doesn't exit by default).\n",
            "Script finished.\n",
            "Exit status of the script: 0\n",
            "\n"
          ]
        },
        {
          "output_type": "stream",
          "name": "stderr",
          "text": [
            "cat: non_existent_file_for_trap.txt: No such file or directory\n"
          ]
        }
      ]
    },
    {
      "cell_type": "code",
      "source": [
        "%%bash\n",
        "cd bash_tutorial/scripting\n",
        "\n",
        "# Clean up the demo file\n",
        "rm trap_err_demo.sh"
      ],
      "metadata": {
        "id": "PFEyrHawIEjE"
      },
      "execution_count": 24,
      "outputs": []
    },
    {
      "cell_type": "markdown",
      "metadata": {
        "id": "9b833789"
      },
      "source": [
        "## Create and run demo .bat files"
      ]
    },
    {
      "cell_type": "markdown",
      "metadata": {
        "id": "cfbbc211"
      },
      "source": [
        "Batch files, their purpose and extensions. Describe the basic syntax and key commands (`echo`, `pause`, `@`, `REM`), variable usage (`SET`, `%variable_name%`), and printing blank lines (`echo.`). Create the `hello.bat` and `variables.bat` files with the specified content. Print the content of the created files."
      ]
    },
    {
      "cell_type": "markdown",
      "source": [
        "**What are Batch Files?**: Batch files are script files in Windows that contain a series of commands to be executed by the Windows Command Prompt (`cmd.exe`). They are used to automate tasks, run multiple commands sequentially, and simplify repetitive operations. Batch files have the `.bat` or `.cmd` file extension.\n",
        "\n",
        "**Basic Syntax of a Batch File**\n",
        "\n",
        "*Commands:*\n",
        "\n",
        "- `echo [message]`: Displays a message on the console. `echo off` is used to prevent the commands themselves from being displayed.\n",
        "- `pause`: Halts the execution of the batch file and waits for the user to press any key.\n",
        "- `@`: Placed before a command to prevent that specific command from being displayed (useful for the first `echo off`)\n",
        "\n",
        "*Comments:*\n",
        "\n",
        "- `REM [comment]`: Used to add comments to the batch file. These lines are ignored during execution.\n",
        "\n",
        "*Variables:*\n",
        "\n",
        "- `SET variable_name=value`: Used to define or assign a value to a variable.\n",
        "- `%variable_name%`: Used to access the value stored in a variable.\n",
        "\n",
        "*Printing Blank Lines:*: `echo.`: A common way to print a blank line in a batch file."
      ],
      "metadata": {
        "id": "gcsPoNbeNEn1"
      }
    },
    {
      "cell_type": "markdown",
      "source": [
        "**Creating `hello.bat`**"
      ],
      "metadata": {
        "id": "p-tIn1HIN1op"
      }
    },
    {
      "cell_type": "code",
      "metadata": {
        "id": "a3a61515",
        "colab": {
          "base_uri": "https://localhost:8080/"
        },
        "outputId": "827d8c5d-cc14-4c38-8fed-ee0f039c8d0d"
      },
      "source": [
        "import os\n",
        "\n",
        "# Create a simple batch file (hello.bat)\n",
        "hello_bat_content = \"\"\"@echo off\n",
        "REM This is a simple batch file\n",
        "echo Hello, Batch File!\n",
        "pause\n",
        "\"\"\"\n",
        "\n",
        "with open(\"hello.bat\", \"w\") as f:\n",
        "    f.write(hello_bat_content)\n",
        "\n",
        "print(\"### Content of hello.bat:\")\n",
        "print(\"```bat\")\n",
        "print(hello_bat_content)\n",
        "print(\"```\")"
      ],
      "execution_count": 26,
      "outputs": [
        {
          "output_type": "stream",
          "name": "stdout",
          "text": [
            "### Content of hello.bat:\n",
            "```bat\n",
            "@echo off\n",
            "REM This is a simple batch file\n",
            "echo Hello, Batch File!\n",
            "pause\n",
            "\n",
            "```\n"
          ]
        }
      ]
    },
    {
      "cell_type": "markdown",
      "source": [
        "**Creating `variables.bat`**"
      ],
      "metadata": {
        "id": "pBOF0im8N7fJ"
      }
    },
    {
      "cell_type": "code",
      "source": [
        "import os\n",
        "\n",
        "# Create another batch file (variables.bat)\n",
        "variables_bat_content = \"\"\"@echo off\n",
        "REM This batch file demonstrates variables and basic commands\n",
        "\n",
        "REM --- Using Variables ---\n",
        "SET my_variable=This is a variable's value\n",
        "echo The value of my_variable is: %my_variable%\n",
        "echo. REM Prints a blank line\n",
        "\n",
        "SET another_variable=42\n",
        "echo The value of another_variable is: %another_variable%\n",
        "echo.\n",
        "\n",
        "REM --- Basic Commands ---\n",
        "echo Displaying current directory:\n",
        "cd\n",
        "echo.\n",
        "\n",
        "echo Listing files in current directory:\n",
        "dir\n",
        "echo.\n",
        "\n",
        "REM --- Pause to see output ---\n",
        "echo Press any key to exit...\n",
        "pause > nul REM Redirects pause output to nul to avoid \"Press any key to continue...\" message\n",
        "\"\"\"\n",
        "\n",
        "with open(\"variables.bat\", \"w\") as f:\n",
        "    f.write(variables_bat_content)\n",
        "\n",
        "print(\"### Content of variables.bat:\")\n",
        "print(\"```bat\")\n",
        "print(variables_bat_content)\n",
        "print(\"```\")"
      ],
      "metadata": {
        "colab": {
          "base_uri": "https://localhost:8080/"
        },
        "id": "G2QuzHjdN6PA",
        "outputId": "1069f2c7-8b22-4902-bac5-3901c15fa2e9"
      },
      "execution_count": 27,
      "outputs": [
        {
          "output_type": "stream",
          "name": "stdout",
          "text": [
            "### Content of variables.bat:\n",
            "```bat\n",
            "@echo off\n",
            "REM This batch file demonstrates variables and basic commands\n",
            "\n",
            "REM --- Using Variables ---\n",
            "SET my_variable=This is a variable's value\n",
            "echo The value of my_variable is: %my_variable%\n",
            "echo. REM Prints a blank line\n",
            "\n",
            "SET another_variable=42\n",
            "echo The value of another_variable is: %another_variable%\n",
            "echo.\n",
            "\n",
            "REM --- Basic Commands ---\n",
            "echo Displaying current directory:\n",
            "cd\n",
            "echo.\n",
            "\n",
            "echo Listing files in current directory:\n",
            "dir\n",
            "echo.\n",
            "\n",
            "REM --- Pause to see output ---\n",
            "echo Press any key to exit...\n",
            "pause > nul REM Redirects pause output to nul to avoid \"Press any key to continue...\" message\n",
            "\n",
            "```\n"
          ]
        }
      ]
    },
    {
      "cell_type": "markdown",
      "metadata": {
        "id": "730e9ccb"
      },
      "source": [
        "**Reasoning**:\n",
        "Explain how to execute batch files in Windows and describe the expected output for the created batch files, noting the limitations of the current environment.\n",
        "\n"
      ]
    },
    {
      "cell_type": "markdown",
      "source": [
        "**Executing a batch file from the command prompt**: Batch files can be executed from the Windows Command Prompt (`cmd.exe`) or PowerShell in a few ways:\n",
        "1. **Navigate to the directory:** Open `cmd.exe` or PowerShell, use the `cd` command to navigate to the directory where the batch file is located, and then type the name of the batch file (e.g., `hello.bat`).\n",
        "2. **Provide the full path:** Open `cmd.exe` or PowerShell and type the full path to the batch file (e.g., `C:\\\\Users\\\\YourUsername\\\\Documents\\\\hello.bat`).\n",
        "3. **Double-click (GUI):** In File Explorer, simply double-click the `.bat` file. This will open a Command Prompt window, execute the commands, and close the window when finished (unless `pause` is used).\n",
        "\n",
        "Because this environment (Colab) may not have a Windows Command Prompt (`cmd.exe`) available, we cannot directly execute the batch files here and show their live output. The execution will be described based on how it would behave in a standard Windows Command Prompt environment.\n",
        "\n"
      ],
      "metadata": {
        "id": "cc0c3811"
      }
    },
    {
      "cell_type": "markdown",
      "source": [
        "**Describe the expected output when running `hello.bat` and `variables.bat` in a Windows Command Prompt environment.**\n"
      ],
      "metadata": {
        "id": "etIS2pjEO_3X"
      }
    },
    {
      "cell_type": "markdown",
      "source": [
        "Expected o/p of `hello.bat` :"
      ],
      "metadata": {
        "id": "JyL-cQ-7PPxo"
      }
    },
    {
      "cell_type": "code",
      "source": [
        "import os\n",
        "\n",
        "print(\"### Expected Output in Windows Command Prompt\")\n",
        "print(\"\")\n",
        "\n",
        "print(\"#### Expected Output of hello.bat:\")\n",
        "print(\"When you run `hello.bat` in a Windows Command Prompt, you would expect to see:\")\n",
        "print(\"```text\")\n",
        "print(\"Hello, Batch File!\")\n",
        "print(\"Press any key to continue . . .\")\n",
        "print(\"```\")\n",
        "print(\"The `echo off` command prevents the `@echo off` and `echo Hello, Batch File!` lines from being displayed as commands, only their output.\")\n",
        "print(\"The `pause` command prints the 'Press any key to continue . . .' message and waits for user input.\")"
      ],
      "metadata": {
        "id": "hT3jQl3VPJ8T",
        "colab": {
          "base_uri": "https://localhost:8080/"
        },
        "outputId": "35990bfb-b5c2-48d9-e19d-279a060880cd"
      },
      "execution_count": 29,
      "outputs": [
        {
          "output_type": "stream",
          "name": "stdout",
          "text": [
            "### Expected Output in Windows Command Prompt\n",
            "\n",
            "#### Expected Output of hello.bat:\n",
            "When you run `hello.bat` in a Windows Command Prompt, you would expect to see:\n",
            "```text\n",
            "Hello, Batch File!\n",
            "Press any key to continue . . .\n",
            "```\n",
            "The `echo off` command prevents the `@echo off` and `echo Hello, Batch File!` lines from being displayed as commands, only their output.\n",
            "The `pause` command prints the 'Press any key to continue . . .' message and waits for user input.\n"
          ]
        }
      ]
    },
    {
      "cell_type": "markdown",
      "source": [
        "Expected Output of `variables.bat`:"
      ],
      "metadata": {
        "id": "rAvQMpBcPgl8"
      }
    },
    {
      "cell_type": "code",
      "source": [
        "import os\n",
        "\n",
        "print(\"#### Expected Output of variables.bat:\")\n",
        "print(\"When you run `variables.bat` in a Windows Command Prompt, you would expect to see output similar to this:\")\n",
        "print(\"```text\")\n",
        "print(\"The value of my_variable is: This is a variable's value\")\n",
        "print(\"\") # Blank line from echo.\n",
        "print(\"The value of another_variable is: 42\")\n",
        "print(\"\") # Blank line from echo.\n",
        "print(\"Displaying current directory:\")\n",
        "print(\"C:\\\\path\\\\to\\\\your\\\\current\\\\directory\") # The actual path will vary\n",
        "print(\"\") # Blank line from echo.\n",
        "print(\"Listing files in current directory:\")\n",
        "print(\" Volume in drive C is OS\")\n",
        "print(\" Volume Serial Number is XXXX-XXXX\")\n",
        "print(\"\")\n",
        "print(\" Directory of C:\\\\path\\\\to\\\\your\\\\current\\\\directory\")   # The actual path will vary\n",
        "print(\"\")\n",
        "print(\"YYYY/MM/DD  HH:MM PM             hello.bat\")             # Example dir output\n",
        "print(\"YYYY/MM/DD  HH:MM PM             variables.bat\")         # Example dir output\n",
        "print(\"               X File(s)            YYYYYY bytes\")       # Example dir output\n",
        "print(\"               Y Dir(s)         ZZZZZZZZZZ bytes free\")  # Example dir output\n",
        "print(\"\")                                                       # Blank line from echo.\n",
        "print(\"Press any key to exit...\")                               # From the echo command before pause\n",
        "\n",
        "# Note: The output of 'pause > nul' is suppressed, so \"Press any key to continue...\" is not shown.\n",
        "print(\"```\")\n",
        "print(\"The script first demonstrates setting and displaying variables using `SET` and `%variable_name%`.\")\n",
        "print(\"It then shows the output of the `cd` (change directory) and `dir` (list directory contents) commands.\")\n",
        "print(\"The `pause > nul` command waits for user input but redirects its standard output (the 'Press any key to continue...' message) to `nul`, effectively suppressing it, while the preceding `echo` command provides a custom prompt.\")"
      ],
      "metadata": {
        "colab": {
          "base_uri": "https://localhost:8080/"
        },
        "id": "1kdKAV-BPUWl",
        "outputId": "6447d8df-50d8-43e5-a753-695b0082c8cc"
      },
      "execution_count": 30,
      "outputs": [
        {
          "output_type": "stream",
          "name": "stdout",
          "text": [
            "#### Expected Output of variables.bat:\n",
            "When you run `variables.bat` in a Windows Command Prompt, you would expect to see output similar to this:\n",
            "```text\n",
            "The value of my_variable is: This is a variable's value\n",
            "\n",
            "The value of another_variable is: 42\n",
            "\n",
            "Displaying current directory:\n",
            "C:\\path\\to\\your\\current\\directory\n",
            "\n",
            "Listing files in current directory:\n",
            " Volume in drive C is OS\n",
            " Volume Serial Number is XXXX-XXXX\n",
            "\n",
            " Directory of C:\\path\\to\\your\\current\\directory\n",
            "\n",
            "YYYY/MM/DD  HH:MM PM             hello.bat\n",
            "YYYY/MM/DD  HH:MM PM             variables.bat\n",
            "               X File(s)            YYYYYY bytes\n",
            "               Y Dir(s)         ZZZZZZZZZZ bytes free\n",
            "\n",
            "Press any key to exit...\n",
            "```\n",
            "The script first demonstrates setting and displaying variables using `SET` and `%variable_name%`.\n",
            "It then shows the output of the `cd` (change directory) and `dir` (list directory contents) commands.\n",
            "The `pause > nul` command waits for user input but redirects its standard output (the 'Press any key to continue...' message) to `nul`, effectively suppressing it, while the preceding `echo` command provides a custom prompt.\n"
          ]
        }
      ]
    }
  ]
}